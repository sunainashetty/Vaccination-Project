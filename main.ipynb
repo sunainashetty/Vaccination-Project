{
 "cells": [
  {
   "cell_type": "code",
   "execution_count": 1,
   "id": "135f1d13",
   "metadata": {},
   "outputs": [],
   "source": [
    "\n",
    "import pandas as pd\n",
    "import numpy as np\n",
    "import matplotlib.pyplot as plt\n",
    "import seaborn as sns\n",
    "\n",
    "df_coverage = pd.read_excel(\"coverage-data.xlsx\")\n"
   ]
  },
  {
   "cell_type": "code",
   "execution_count": 2,
   "id": "813ec4a3",
   "metadata": {},
   "outputs": [
    {
     "name": "stdout",
     "output_type": "stream",
     "text": [
      "<class 'pandas.core.frame.DataFrame'>\n",
      "RangeIndex: 399859 entries, 0 to 399858\n",
      "Data columns (total 11 columns):\n",
      " #   Column                         Non-Null Count   Dtype  \n",
      "---  ------                         --------------   -----  \n",
      " 0   GROUP                          399859 non-null  object \n",
      " 1   CODE                           399858 non-null  object \n",
      " 2   NAME                           398584 non-null  object \n",
      " 3   YEAR                           399858 non-null  float64\n",
      " 4   ANTIGEN                        399858 non-null  object \n",
      " 5   ANTIGEN_DESCRIPTION            399858 non-null  object \n",
      " 6   COVERAGE_CATEGORY              399858 non-null  object \n",
      " 7   COVERAGE_CATEGORY_DESCRIPTION  399858 non-null  object \n",
      " 8   TARGET_NUMBER                  79030 non-null   float64\n",
      " 9   DOSES                          79327 non-null   float64\n",
      " 10  COVERAGE                       230477 non-null  float64\n",
      "dtypes: float64(4), object(7)\n",
      "memory usage: 33.6+ MB\n"
     ]
    },
    {
     "data": {
      "text/html": [
       "<div>\n",
       "<style scoped>\n",
       "    .dataframe tbody tr th:only-of-type {\n",
       "        vertical-align: middle;\n",
       "    }\n",
       "\n",
       "    .dataframe tbody tr th {\n",
       "        vertical-align: top;\n",
       "    }\n",
       "\n",
       "    .dataframe thead th {\n",
       "        text-align: right;\n",
       "    }\n",
       "</style>\n",
       "<table border=\"1\" class=\"dataframe\">\n",
       "  <thead>\n",
       "    <tr style=\"text-align: right;\">\n",
       "      <th></th>\n",
       "      <th>YEAR</th>\n",
       "      <th>TARGET_NUMBER</th>\n",
       "      <th>DOSES</th>\n",
       "      <th>COVERAGE</th>\n",
       "    </tr>\n",
       "  </thead>\n",
       "  <tbody>\n",
       "    <tr>\n",
       "      <th>count</th>\n",
       "      <td>399858.000000</td>\n",
       "      <td>7.903000e+04</td>\n",
       "      <td>7.932700e+04</td>\n",
       "      <td>230477.000000</td>\n",
       "    </tr>\n",
       "    <tr>\n",
       "      <th>mean</th>\n",
       "      <td>2009.207489</td>\n",
       "      <td>2.780192e+08</td>\n",
       "      <td>3.467241e+06</td>\n",
       "      <td>78.032914</td>\n",
       "    </tr>\n",
       "    <tr>\n",
       "      <th>std</th>\n",
       "      <td>11.720530</td>\n",
       "      <td>5.415244e+10</td>\n",
       "      <td>1.125676e+07</td>\n",
       "      <td>74.891697</td>\n",
       "    </tr>\n",
       "    <tr>\n",
       "      <th>min</th>\n",
       "      <td>1980.000000</td>\n",
       "      <td>0.000000e+00</td>\n",
       "      <td>-2.222882e+08</td>\n",
       "      <td>0.000000</td>\n",
       "    </tr>\n",
       "    <tr>\n",
       "      <th>25%</th>\n",
       "      <td>2002.000000</td>\n",
       "      <td>3.281400e+04</td>\n",
       "      <td>1.446900e+04</td>\n",
       "      <td>69.320000</td>\n",
       "    </tr>\n",
       "    <tr>\n",
       "      <th>50%</th>\n",
       "      <td>2012.000000</td>\n",
       "      <td>3.178715e+05</td>\n",
       "      <td>1.522120e+05</td>\n",
       "      <td>88.790000</td>\n",
       "    </tr>\n",
       "    <tr>\n",
       "      <th>75%</th>\n",
       "      <td>2019.000000</td>\n",
       "      <td>2.493048e+06</td>\n",
       "      <td>9.710185e+05</td>\n",
       "      <td>96.000000</td>\n",
       "    </tr>\n",
       "    <tr>\n",
       "      <th>max</th>\n",
       "      <td>2023.000000</td>\n",
       "      <td>1.170000e+13</td>\n",
       "      <td>1.266052e+08</td>\n",
       "      <td>32000.000000</td>\n",
       "    </tr>\n",
       "  </tbody>\n",
       "</table>\n",
       "</div>"
      ],
      "text/plain": [
       "                YEAR  TARGET_NUMBER         DOSES       COVERAGE\n",
       "count  399858.000000   7.903000e+04  7.932700e+04  230477.000000\n",
       "mean     2009.207489   2.780192e+08  3.467241e+06      78.032914\n",
       "std        11.720530   5.415244e+10  1.125676e+07      74.891697\n",
       "min      1980.000000   0.000000e+00 -2.222882e+08       0.000000\n",
       "25%      2002.000000   3.281400e+04  1.446900e+04      69.320000\n",
       "50%      2012.000000   3.178715e+05  1.522120e+05      88.790000\n",
       "75%      2019.000000   2.493048e+06  9.710185e+05      96.000000\n",
       "max      2023.000000   1.170000e+13  1.266052e+08   32000.000000"
      ]
     },
     "execution_count": 2,
     "metadata": {},
     "output_type": "execute_result"
    }
   ],
   "source": [
    "#Data Overview\n",
    "df_coverage.info()\n",
    "df_coverage.describe()"
   ]
  },
  {
   "cell_type": "code",
   "execution_count": 3,
   "id": "f2c451ef",
   "metadata": {},
   "outputs": [
    {
     "data": {
      "text/plain": [
       "GROUP                                 0\n",
       "CODE                                  1\n",
       "NAME                               1275\n",
       "YEAR                                  1\n",
       "ANTIGEN                               1\n",
       "ANTIGEN_DESCRIPTION                   1\n",
       "COVERAGE_CATEGORY                     1\n",
       "COVERAGE_CATEGORY_DESCRIPTION         1\n",
       "TARGET_NUMBER                    320829\n",
       "DOSES                            320532\n",
       "COVERAGE                         169382\n",
       "dtype: int64"
      ]
     },
     "execution_count": 3,
     "metadata": {},
     "output_type": "execute_result"
    }
   ],
   "source": [
    "df_coverage.isnull().sum()"
   ]
  },
  {
   "cell_type": "code",
   "execution_count": 4,
   "id": "1e38f9d5",
   "metadata": {},
   "outputs": [
    {
     "data": {
      "text/html": [
       "<div>\n",
       "<style scoped>\n",
       "    .dataframe tbody tr th:only-of-type {\n",
       "        vertical-align: middle;\n",
       "    }\n",
       "\n",
       "    .dataframe tbody tr th {\n",
       "        vertical-align: top;\n",
       "    }\n",
       "\n",
       "    .dataframe thead th {\n",
       "        text-align: right;\n",
       "    }\n",
       "</style>\n",
       "<table border=\"1\" class=\"dataframe\">\n",
       "  <thead>\n",
       "    <tr style=\"text-align: right;\">\n",
       "      <th></th>\n",
       "      <th>GROUP</th>\n",
       "      <th>CODE</th>\n",
       "      <th>NAME</th>\n",
       "      <th>YEAR</th>\n",
       "      <th>ANTIGEN</th>\n",
       "      <th>ANTIGEN_DESCRIPTION</th>\n",
       "      <th>COVERAGE_CATEGORY</th>\n",
       "      <th>COVERAGE_CATEGORY_DESCRIPTION</th>\n",
       "      <th>TARGET_NUMBER</th>\n",
       "      <th>DOSES</th>\n",
       "      <th>COVERAGE</th>\n",
       "    </tr>\n",
       "  </thead>\n",
       "  <tbody>\n",
       "    <tr>\n",
       "      <th>0</th>\n",
       "      <td>COUNTRIES</td>\n",
       "      <td>ABW</td>\n",
       "      <td>Aruba</td>\n",
       "      <td>2023.0</td>\n",
       "      <td>BCG</td>\n",
       "      <td>BCG</td>\n",
       "      <td>ADMIN</td>\n",
       "      <td>Administrative coverage</td>\n",
       "      <td>NaN</td>\n",
       "      <td>NaN</td>\n",
       "      <td>NaN</td>\n",
       "    </tr>\n",
       "    <tr>\n",
       "      <th>1</th>\n",
       "      <td>COUNTRIES</td>\n",
       "      <td>ABW</td>\n",
       "      <td>Aruba</td>\n",
       "      <td>2023.0</td>\n",
       "      <td>BCG</td>\n",
       "      <td>BCG</td>\n",
       "      <td>OFFICIAL</td>\n",
       "      <td>Official coverage</td>\n",
       "      <td>NaN</td>\n",
       "      <td>NaN</td>\n",
       "      <td>NaN</td>\n",
       "    </tr>\n",
       "    <tr>\n",
       "      <th>2</th>\n",
       "      <td>COUNTRIES</td>\n",
       "      <td>ABW</td>\n",
       "      <td>Aruba</td>\n",
       "      <td>2023.0</td>\n",
       "      <td>DIPHCV4</td>\n",
       "      <td>Diphtheria-containing vaccine, 4th dose (1st b...</td>\n",
       "      <td>ADMIN</td>\n",
       "      <td>Administrative coverage</td>\n",
       "      <td>1044.0</td>\n",
       "      <td>945.0</td>\n",
       "      <td>90.52</td>\n",
       "    </tr>\n",
       "    <tr>\n",
       "      <th>3</th>\n",
       "      <td>COUNTRIES</td>\n",
       "      <td>ABW</td>\n",
       "      <td>Aruba</td>\n",
       "      <td>2023.0</td>\n",
       "      <td>DIPHCV4</td>\n",
       "      <td>Diphtheria-containing vaccine, 4th dose (1st b...</td>\n",
       "      <td>OFFICIAL</td>\n",
       "      <td>Official coverage</td>\n",
       "      <td>NaN</td>\n",
       "      <td>NaN</td>\n",
       "      <td>90.52</td>\n",
       "    </tr>\n",
       "    <tr>\n",
       "      <th>4</th>\n",
       "      <td>COUNTRIES</td>\n",
       "      <td>ABW</td>\n",
       "      <td>Aruba</td>\n",
       "      <td>2023.0</td>\n",
       "      <td>DIPHCV5</td>\n",
       "      <td>Diphtheria-containing vaccine, 5th dose (2nd b...</td>\n",
       "      <td>ADMIN</td>\n",
       "      <td>Administrative coverage</td>\n",
       "      <td>1219.0</td>\n",
       "      <td>1008.0</td>\n",
       "      <td>82.69</td>\n",
       "    </tr>\n",
       "    <tr>\n",
       "      <th>...</th>\n",
       "      <td>...</td>\n",
       "      <td>...</td>\n",
       "      <td>...</td>\n",
       "      <td>...</td>\n",
       "      <td>...</td>\n",
       "      <td>...</td>\n",
       "      <td>...</td>\n",
       "      <td>...</td>\n",
       "      <td>...</td>\n",
       "      <td>...</td>\n",
       "      <td>...</td>\n",
       "    </tr>\n",
       "    <tr>\n",
       "      <th>673</th>\n",
       "      <td>COUNTRIES</td>\n",
       "      <td>AFG</td>\n",
       "      <td>Afghanistan</td>\n",
       "      <td>2022.0</td>\n",
       "      <td>ROTA1</td>\n",
       "      <td>Rotavirus, 1st dose</td>\n",
       "      <td>ADMIN</td>\n",
       "      <td>Administrative coverage</td>\n",
       "      <td>1913143.0</td>\n",
       "      <td>1664416.0</td>\n",
       "      <td>87.00</td>\n",
       "    </tr>\n",
       "    <tr>\n",
       "      <th>674</th>\n",
       "      <td>COUNTRIES</td>\n",
       "      <td>AFG</td>\n",
       "      <td>Afghanistan</td>\n",
       "      <td>2022.0</td>\n",
       "      <td>ROTA1</td>\n",
       "      <td>Rotavirus, 1st dose</td>\n",
       "      <td>OFFICIAL</td>\n",
       "      <td>Official coverage</td>\n",
       "      <td>NaN</td>\n",
       "      <td>NaN</td>\n",
       "      <td>87.00</td>\n",
       "    </tr>\n",
       "    <tr>\n",
       "      <th>675</th>\n",
       "      <td>COUNTRIES</td>\n",
       "      <td>AFG</td>\n",
       "      <td>Afghanistan</td>\n",
       "      <td>2022.0</td>\n",
       "      <td>ROTAC</td>\n",
       "      <td>Rotavirus, last dose</td>\n",
       "      <td>ADMIN</td>\n",
       "      <td>Administrative coverage</td>\n",
       "      <td>1913143.0</td>\n",
       "      <td>1475342.0</td>\n",
       "      <td>77.12</td>\n",
       "    </tr>\n",
       "    <tr>\n",
       "      <th>676</th>\n",
       "      <td>COUNTRIES</td>\n",
       "      <td>AFG</td>\n",
       "      <td>Afghanistan</td>\n",
       "      <td>2022.0</td>\n",
       "      <td>ROTAC</td>\n",
       "      <td>Rotavirus, last dose</td>\n",
       "      <td>OFFICIAL</td>\n",
       "      <td>Official coverage</td>\n",
       "      <td>NaN</td>\n",
       "      <td>NaN</td>\n",
       "      <td>77.12</td>\n",
       "    </tr>\n",
       "    <tr>\n",
       "      <th>677</th>\n",
       "      <td>COUNTRIES</td>\n",
       "      <td>AFG</td>\n",
       "      <td>Afghanistan</td>\n",
       "      <td>2022.0</td>\n",
       "      <td>ROTAC</td>\n",
       "      <td>Rotavirus, last dose</td>\n",
       "      <td>WUENIC</td>\n",
       "      <td>WHO/UNICEF Estimates of National Immunization ...</td>\n",
       "      <td>NaN</td>\n",
       "      <td>NaN</td>\n",
       "      <td>59.00</td>\n",
       "    </tr>\n",
       "  </tbody>\n",
       "</table>\n",
       "<p>678 rows × 11 columns</p>\n",
       "</div>"
      ],
      "text/plain": [
       "         GROUP CODE         NAME    YEAR  ANTIGEN  \\\n",
       "0    COUNTRIES  ABW        Aruba  2023.0      BCG   \n",
       "1    COUNTRIES  ABW        Aruba  2023.0      BCG   \n",
       "2    COUNTRIES  ABW        Aruba  2023.0  DIPHCV4   \n",
       "3    COUNTRIES  ABW        Aruba  2023.0  DIPHCV4   \n",
       "4    COUNTRIES  ABW        Aruba  2023.0  DIPHCV5   \n",
       "..         ...  ...          ...     ...      ...   \n",
       "673  COUNTRIES  AFG  Afghanistan  2022.0    ROTA1   \n",
       "674  COUNTRIES  AFG  Afghanistan  2022.0    ROTA1   \n",
       "675  COUNTRIES  AFG  Afghanistan  2022.0    ROTAC   \n",
       "676  COUNTRIES  AFG  Afghanistan  2022.0    ROTAC   \n",
       "677  COUNTRIES  AFG  Afghanistan  2022.0    ROTAC   \n",
       "\n",
       "                                   ANTIGEN_DESCRIPTION COVERAGE_CATEGORY  \\\n",
       "0                                                  BCG             ADMIN   \n",
       "1                                                  BCG          OFFICIAL   \n",
       "2    Diphtheria-containing vaccine, 4th dose (1st b...             ADMIN   \n",
       "3    Diphtheria-containing vaccine, 4th dose (1st b...          OFFICIAL   \n",
       "4    Diphtheria-containing vaccine, 5th dose (2nd b...             ADMIN   \n",
       "..                                                 ...               ...   \n",
       "673                                Rotavirus, 1st dose             ADMIN   \n",
       "674                                Rotavirus, 1st dose          OFFICIAL   \n",
       "675                               Rotavirus, last dose             ADMIN   \n",
       "676                               Rotavirus, last dose          OFFICIAL   \n",
       "677                               Rotavirus, last dose            WUENIC   \n",
       "\n",
       "                         COVERAGE_CATEGORY_DESCRIPTION  TARGET_NUMBER  \\\n",
       "0                              Administrative coverage            NaN   \n",
       "1                                    Official coverage            NaN   \n",
       "2                              Administrative coverage         1044.0   \n",
       "3                                    Official coverage            NaN   \n",
       "4                              Administrative coverage         1219.0   \n",
       "..                                                 ...            ...   \n",
       "673                            Administrative coverage      1913143.0   \n",
       "674                                  Official coverage            NaN   \n",
       "675                            Administrative coverage      1913143.0   \n",
       "676                                  Official coverage            NaN   \n",
       "677  WHO/UNICEF Estimates of National Immunization ...            NaN   \n",
       "\n",
       "         DOSES  COVERAGE  \n",
       "0          NaN       NaN  \n",
       "1          NaN       NaN  \n",
       "2        945.0     90.52  \n",
       "3          NaN     90.52  \n",
       "4       1008.0     82.69  \n",
       "..         ...       ...  \n",
       "673  1664416.0     87.00  \n",
       "674        NaN     87.00  \n",
       "675  1475342.0     77.12  \n",
       "676        NaN     77.12  \n",
       "677        NaN     59.00  \n",
       "\n",
       "[678 rows x 11 columns]"
      ]
     },
     "execution_count": 4,
     "metadata": {},
     "output_type": "execute_result"
    }
   ],
   "source": [
    "df_coverage.isnull().sum()\n",
    "df_coverage.describe()\n",
    "df_coverage.head(678)"
   ]
  },
  {
   "cell_type": "code",
   "execution_count": 5,
   "id": "d7441571",
   "metadata": {},
   "outputs": [
    {
     "data": {
      "text/plain": [
       "(399859, 11)"
      ]
     },
     "execution_count": 5,
     "metadata": {},
     "output_type": "execute_result"
    }
   ],
   "source": [
    "df_coverage.shape"
   ]
  },
  {
   "cell_type": "code",
   "execution_count": 6,
   "id": "f2dc2aca",
   "metadata": {},
   "outputs": [],
   "source": [
    "df_coverage.drop_duplicates(inplace=True)"
   ]
  },
  {
   "cell_type": "code",
   "execution_count": 7,
   "id": "37febd6d",
   "metadata": {},
   "outputs": [
    {
     "data": {
      "text/plain": [
       "GROUP                                 0\n",
       "CODE                                  1\n",
       "NAME                               1275\n",
       "YEAR                                  1\n",
       "ANTIGEN                               1\n",
       "ANTIGEN_DESCRIPTION                   1\n",
       "COVERAGE_CATEGORY                     1\n",
       "COVERAGE_CATEGORY_DESCRIPTION         1\n",
       "TARGET_NUMBER                    320829\n",
       "DOSES                            320532\n",
       "COVERAGE                         169382\n",
       "dtype: int64"
      ]
     },
     "execution_count": 7,
     "metadata": {},
     "output_type": "execute_result"
    }
   ],
   "source": [
    "\n",
    "df_coverage.isnull().sum()"
   ]
  },
  {
   "cell_type": "code",
   "execution_count": 8,
   "id": "866972fe",
   "metadata": {},
   "outputs": [
    {
     "name": "stderr",
     "output_type": "stream",
     "text": [
      "C:\\Users\\ADHARSH\\AppData\\Local\\Temp\\ipykernel_11284\\3147521808.py:1: FutureWarning: A value is trying to be set on a copy of a DataFrame or Series through chained assignment using an inplace method.\n",
      "The behavior will change in pandas 3.0. This inplace method will never work because the intermediate object on which we are setting values always behaves as a copy.\n",
      "\n",
      "For example, when doing 'df[col].method(value, inplace=True)', try using 'df.method({col: value}, inplace=True)' or df[col] = df[col].method(value) instead, to perform the operation inplace on the original object.\n",
      "\n",
      "\n",
      "  df_coverage[\"CODE\"].fillna(method=\"ffill\",inplace=True)\n",
      "C:\\Users\\ADHARSH\\AppData\\Local\\Temp\\ipykernel_11284\\3147521808.py:1: FutureWarning: Series.fillna with 'method' is deprecated and will raise in a future version. Use obj.ffill() or obj.bfill() instead.\n",
      "  df_coverage[\"CODE\"].fillna(method=\"ffill\",inplace=True)\n"
     ]
    }
   ],
   "source": [
    "df_coverage[\"CODE\"].fillna(method=\"ffill\",inplace=True)"
   ]
  },
  {
   "cell_type": "code",
   "execution_count": 9,
   "id": "422f6fc0",
   "metadata": {},
   "outputs": [
    {
     "data": {
      "text/plain": [
       "GROUP                                 0\n",
       "CODE                                  0\n",
       "NAME                               1275\n",
       "YEAR                                  1\n",
       "ANTIGEN                               1\n",
       "ANTIGEN_DESCRIPTION                   1\n",
       "COVERAGE_CATEGORY                     1\n",
       "COVERAGE_CATEGORY_DESCRIPTION         1\n",
       "TARGET_NUMBER                    320829\n",
       "DOSES                            320532\n",
       "COVERAGE                         169382\n",
       "dtype: int64"
      ]
     },
     "execution_count": 9,
     "metadata": {},
     "output_type": "execute_result"
    }
   ],
   "source": [
    "df_coverage.isnull().sum()"
   ]
  },
  {
   "cell_type": "code",
   "execution_count": 10,
   "id": "6ab03fe9",
   "metadata": {},
   "outputs": [
    {
     "name": "stderr",
     "output_type": "stream",
     "text": [
      "C:\\Users\\ADHARSH\\AppData\\Local\\Temp\\ipykernel_11284\\3971207137.py:2: FutureWarning: A value is trying to be set on a copy of a DataFrame or Series through chained assignment using an inplace method.\n",
      "The behavior will change in pandas 3.0. This inplace method will never work because the intermediate object on which we are setting values always behaves as a copy.\n",
      "\n",
      "For example, when doing 'df[col].method(value, inplace=True)', try using 'df.method({col: value}, inplace=True)' or df[col] = df[col].method(value) instead, to perform the operation inplace on the original object.\n",
      "\n",
      "\n",
      "  df_coverage[\"NAME\"].fillna(\"Unknowm\",inplace=True)\n"
     ]
    }
   ],
   "source": [
    "#Data Cleaning\n",
    "df_coverage[\"NAME\"].fillna(\"Unknowm\",inplace=True)"
   ]
  },
  {
   "cell_type": "code",
   "execution_count": 11,
   "id": "751f510a",
   "metadata": {},
   "outputs": [
    {
     "data": {
      "text/plain": [
       "GROUP                                 0\n",
       "CODE                                  0\n",
       "NAME                                  0\n",
       "YEAR                                  1\n",
       "ANTIGEN                               1\n",
       "ANTIGEN_DESCRIPTION                   1\n",
       "COVERAGE_CATEGORY                     1\n",
       "COVERAGE_CATEGORY_DESCRIPTION         1\n",
       "TARGET_NUMBER                    320829\n",
       "DOSES                            320532\n",
       "COVERAGE                         169382\n",
       "dtype: int64"
      ]
     },
     "execution_count": 11,
     "metadata": {},
     "output_type": "execute_result"
    }
   ],
   "source": [
    "df_coverage.isnull().sum()"
   ]
  },
  {
   "cell_type": "code",
   "execution_count": 12,
   "id": "66fd31de",
   "metadata": {},
   "outputs": [
    {
     "name": "stderr",
     "output_type": "stream",
     "text": [
      "C:\\Users\\ADHARSH\\AppData\\Local\\Temp\\ipykernel_11284\\3571363514.py:1: FutureWarning: A value is trying to be set on a copy of a DataFrame or Series through chained assignment using an inplace method.\n",
      "The behavior will change in pandas 3.0. This inplace method will never work because the intermediate object on which we are setting values always behaves as a copy.\n",
      "\n",
      "For example, when doing 'df[col].method(value, inplace=True)', try using 'df.method({col: value}, inplace=True)' or df[col] = df[col].method(value) instead, to perform the operation inplace on the original object.\n",
      "\n",
      "\n",
      "  df_coverage[\"YEAR\"].fillna(method=\"ffill\",inplace = True)\n",
      "C:\\Users\\ADHARSH\\AppData\\Local\\Temp\\ipykernel_11284\\3571363514.py:1: FutureWarning: Series.fillna with 'method' is deprecated and will raise in a future version. Use obj.ffill() or obj.bfill() instead.\n",
      "  df_coverage[\"YEAR\"].fillna(method=\"ffill\",inplace = True)\n"
     ]
    }
   ],
   "source": [
    "df_coverage[\"YEAR\"].fillna(method=\"ffill\",inplace = True)"
   ]
  },
  {
   "cell_type": "code",
   "execution_count": 13,
   "id": "37e8c39b",
   "metadata": {},
   "outputs": [
    {
     "name": "stderr",
     "output_type": "stream",
     "text": [
      "C:\\Users\\ADHARSH\\AppData\\Local\\Temp\\ipykernel_11284\\1867365954.py:2: FutureWarning: A value is trying to be set on a copy of a DataFrame or Series through chained assignment using an inplace method.\n",
      "The behavior will change in pandas 3.0. This inplace method will never work because the intermediate object on which we are setting values always behaves as a copy.\n",
      "\n",
      "For example, when doing 'df[col].method(value, inplace=True)', try using 'df.method({col: value}, inplace=True)' or df[col] = df[col].method(value) instead, to perform the operation inplace on the original object.\n",
      "\n",
      "\n",
      "  df_coverage[\"COVERAGE_CATEGORY_DESCRIPTION\"].fillna(mode_value, inplace=True)\n"
     ]
    }
   ],
   "source": [
    "mode_value = df_coverage[\"COVERAGE_CATEGORY_DESCRIPTION\"].mode()[0]\n",
    "df_coverage[\"COVERAGE_CATEGORY_DESCRIPTION\"].fillna(mode_value, inplace=True)"
   ]
  },
  {
   "cell_type": "code",
   "execution_count": 14,
   "id": "6b646ad9",
   "metadata": {},
   "outputs": [
    {
     "name": "stderr",
     "output_type": "stream",
     "text": [
      "C:\\Users\\ADHARSH\\AppData\\Local\\Temp\\ipykernel_11284\\2150841633.py:2: FutureWarning: A value is trying to be set on a copy of a DataFrame or Series through chained assignment using an inplace method.\n",
      "The behavior will change in pandas 3.0. This inplace method will never work because the intermediate object on which we are setting values always behaves as a copy.\n",
      "\n",
      "For example, when doing 'df[col].method(value, inplace=True)', try using 'df.method({col: value}, inplace=True)' or df[col] = df[col].method(value) instead, to perform the operation inplace on the original object.\n",
      "\n",
      "\n",
      "  df_coverage[\"COVERAGE_CATEGORY\"].fillna(mode_value, inplace=True)\n"
     ]
    }
   ],
   "source": [
    "mode_value = df_coverage[\"COVERAGE_CATEGORY\"].mode()[0]\n",
    "df_coverage[\"COVERAGE_CATEGORY\"].fillna(mode_value, inplace=True)"
   ]
  },
  {
   "cell_type": "code",
   "execution_count": 15,
   "id": "621730af",
   "metadata": {},
   "outputs": [
    {
     "data": {
      "text/plain": [
       "GROUP                                 0\n",
       "CODE                                  0\n",
       "NAME                                  0\n",
       "YEAR                                  0\n",
       "ANTIGEN                               1\n",
       "ANTIGEN_DESCRIPTION                   1\n",
       "COVERAGE_CATEGORY                     0\n",
       "COVERAGE_CATEGORY_DESCRIPTION         0\n",
       "TARGET_NUMBER                    320829\n",
       "DOSES                            320532\n",
       "COVERAGE                         169382\n",
       "dtype: int64"
      ]
     },
     "execution_count": 15,
     "metadata": {},
     "output_type": "execute_result"
    }
   ],
   "source": [
    "df_coverage.isnull().sum()"
   ]
  },
  {
   "cell_type": "code",
   "execution_count": 16,
   "id": "0318b5a1",
   "metadata": {},
   "outputs": [
    {
     "name": "stderr",
     "output_type": "stream",
     "text": [
      "C:\\Users\\ADHARSH\\AppData\\Local\\Temp\\ipykernel_11284\\3906128141.py:1: FutureWarning: A value is trying to be set on a copy of a DataFrame or Series through chained assignment using an inplace method.\n",
      "The behavior will change in pandas 3.0. This inplace method will never work because the intermediate object on which we are setting values always behaves as a copy.\n",
      "\n",
      "For example, when doing 'df[col].method(value, inplace=True)', try using 'df.method({col: value}, inplace=True)' or df[col] = df[col].method(value) instead, to perform the operation inplace on the original object.\n",
      "\n",
      "\n",
      "  df_coverage[\"ANTIGEN\"].fillna(method=\"ffill\",inplace=True)\n",
      "C:\\Users\\ADHARSH\\AppData\\Local\\Temp\\ipykernel_11284\\3906128141.py:1: FutureWarning: Series.fillna with 'method' is deprecated and will raise in a future version. Use obj.ffill() or obj.bfill() instead.\n",
      "  df_coverage[\"ANTIGEN\"].fillna(method=\"ffill\",inplace=True)\n"
     ]
    }
   ],
   "source": [
    "df_coverage[\"ANTIGEN\"].fillna(method=\"ffill\",inplace=True)"
   ]
  },
  {
   "cell_type": "code",
   "execution_count": 17,
   "id": "c462eb8c",
   "metadata": {},
   "outputs": [
    {
     "name": "stderr",
     "output_type": "stream",
     "text": [
      "C:\\Users\\ADHARSH\\AppData\\Local\\Temp\\ipykernel_11284\\2684131894.py:1: FutureWarning: A value is trying to be set on a copy of a DataFrame or Series through chained assignment using an inplace method.\n",
      "The behavior will change in pandas 3.0. This inplace method will never work because the intermediate object on which we are setting values always behaves as a copy.\n",
      "\n",
      "For example, when doing 'df[col].method(value, inplace=True)', try using 'df.method({col: value}, inplace=True)' or df[col] = df[col].method(value) instead, to perform the operation inplace on the original object.\n",
      "\n",
      "\n",
      "  df_coverage[\"ANTIGEN_DESCRIPTION\"].fillna(method=\"ffill\",inplace=True)\n",
      "C:\\Users\\ADHARSH\\AppData\\Local\\Temp\\ipykernel_11284\\2684131894.py:1: FutureWarning: Series.fillna with 'method' is deprecated and will raise in a future version. Use obj.ffill() or obj.bfill() instead.\n",
      "  df_coverage[\"ANTIGEN_DESCRIPTION\"].fillna(method=\"ffill\",inplace=True)\n"
     ]
    }
   ],
   "source": [
    "df_coverage[\"ANTIGEN_DESCRIPTION\"].fillna(method=\"ffill\",inplace=True)"
   ]
  },
  {
   "cell_type": "code",
   "execution_count": 18,
   "id": "06f1473a",
   "metadata": {},
   "outputs": [
    {
     "name": "stderr",
     "output_type": "stream",
     "text": [
      "C:\\Users\\ADHARSH\\AppData\\Local\\Temp\\ipykernel_11284\\353291860.py:2: FutureWarning: A value is trying to be set on a copy of a DataFrame or Series through chained assignment using an inplace method.\n",
      "The behavior will change in pandas 3.0. This inplace method will never work because the intermediate object on which we are setting values always behaves as a copy.\n",
      "\n",
      "For example, when doing 'df[col].method(value, inplace=True)', try using 'df.method({col: value}, inplace=True)' or df[col] = df[col].method(value) instead, to perform the operation inplace on the original object.\n",
      "\n",
      "\n",
      "  df_coverage['TARGET_NUMBER'].fillna(group_means, inplace=True)\n"
     ]
    }
   ],
   "source": [
    "group_means = df_coverage.groupby('CODE')['TARGET_NUMBER'].transform('mean')\n",
    "df_coverage['TARGET_NUMBER'].fillna(group_means, inplace=True)\n",
    "\n"
   ]
  },
  {
   "cell_type": "code",
   "execution_count": 19,
   "id": "8b051614",
   "metadata": {},
   "outputs": [
    {
     "name": "stderr",
     "output_type": "stream",
     "text": [
      "C:\\Users\\ADHARSH\\AppData\\Local\\Temp\\ipykernel_11284\\1157341756.py:2: FutureWarning: A value is trying to be set on a copy of a DataFrame or Series through chained assignment using an inplace method.\n",
      "The behavior will change in pandas 3.0. This inplace method will never work because the intermediate object on which we are setting values always behaves as a copy.\n",
      "\n",
      "For example, when doing 'df[col].method(value, inplace=True)', try using 'df.method({col: value}, inplace=True)' or df[col] = df[col].method(value) instead, to perform the operation inplace on the original object.\n",
      "\n",
      "\n",
      "  df_coverage['DOSES'].fillna(group_means, inplace=True)\n"
     ]
    }
   ],
   "source": [
    "group_means = df_coverage.groupby('CODE')['DOSES'].transform('mean')\n",
    "df_coverage['DOSES'].fillna(group_means, inplace=True)\n"
   ]
  },
  {
   "cell_type": "code",
   "execution_count": 20,
   "id": "9a78c27b",
   "metadata": {},
   "outputs": [],
   "source": [
    "\n",
    "\n",
    "mask = df_coverage['COVERAGE'].isna()\n",
    "df_coverage.loc[mask, 'COVERAGE'] = (df_coverage.loc[mask, 'DOSES'] / df_coverage.loc[mask, 'TARGET_NUMBER']) * 100\n"
   ]
  },
  {
   "cell_type": "code",
   "execution_count": 21,
   "id": "7697aa8d",
   "metadata": {},
   "outputs": [
    {
     "data": {
      "text/html": [
       "<div>\n",
       "<style scoped>\n",
       "    .dataframe tbody tr th:only-of-type {\n",
       "        vertical-align: middle;\n",
       "    }\n",
       "\n",
       "    .dataframe tbody tr th {\n",
       "        vertical-align: top;\n",
       "    }\n",
       "\n",
       "    .dataframe thead th {\n",
       "        text-align: right;\n",
       "    }\n",
       "</style>\n",
       "<table border=\"1\" class=\"dataframe\">\n",
       "  <thead>\n",
       "    <tr style=\"text-align: right;\">\n",
       "      <th></th>\n",
       "      <th>GROUP</th>\n",
       "      <th>CODE</th>\n",
       "      <th>NAME</th>\n",
       "      <th>YEAR</th>\n",
       "      <th>ANTIGEN</th>\n",
       "      <th>ANTIGEN_DESCRIPTION</th>\n",
       "      <th>COVERAGE_CATEGORY</th>\n",
       "      <th>COVERAGE_CATEGORY_DESCRIPTION</th>\n",
       "      <th>TARGET_NUMBER</th>\n",
       "      <th>DOSES</th>\n",
       "      <th>COVERAGE</th>\n",
       "    </tr>\n",
       "  </thead>\n",
       "  <tbody>\n",
       "    <tr>\n",
       "      <th>0</th>\n",
       "      <td>COUNTRIES</td>\n",
       "      <td>ABW</td>\n",
       "      <td>Aruba</td>\n",
       "      <td>2023.0</td>\n",
       "      <td>BCG</td>\n",
       "      <td>BCG</td>\n",
       "      <td>ADMIN</td>\n",
       "      <td>Administrative coverage</td>\n",
       "      <td>1175.213675</td>\n",
       "      <td>1009.414634</td>\n",
       "      <td>85.892009</td>\n",
       "    </tr>\n",
       "    <tr>\n",
       "      <th>1</th>\n",
       "      <td>COUNTRIES</td>\n",
       "      <td>ABW</td>\n",
       "      <td>Aruba</td>\n",
       "      <td>2023.0</td>\n",
       "      <td>BCG</td>\n",
       "      <td>BCG</td>\n",
       "      <td>OFFICIAL</td>\n",
       "      <td>Official coverage</td>\n",
       "      <td>1175.213675</td>\n",
       "      <td>1009.414634</td>\n",
       "      <td>85.892009</td>\n",
       "    </tr>\n",
       "    <tr>\n",
       "      <th>2</th>\n",
       "      <td>COUNTRIES</td>\n",
       "      <td>ABW</td>\n",
       "      <td>Aruba</td>\n",
       "      <td>2023.0</td>\n",
       "      <td>DIPHCV4</td>\n",
       "      <td>Diphtheria-containing vaccine, 4th dose (1st b...</td>\n",
       "      <td>ADMIN</td>\n",
       "      <td>Administrative coverage</td>\n",
       "      <td>1044.000000</td>\n",
       "      <td>945.000000</td>\n",
       "      <td>90.520000</td>\n",
       "    </tr>\n",
       "    <tr>\n",
       "      <th>3</th>\n",
       "      <td>COUNTRIES</td>\n",
       "      <td>ABW</td>\n",
       "      <td>Aruba</td>\n",
       "      <td>2023.0</td>\n",
       "      <td>DIPHCV4</td>\n",
       "      <td>Diphtheria-containing vaccine, 4th dose (1st b...</td>\n",
       "      <td>OFFICIAL</td>\n",
       "      <td>Official coverage</td>\n",
       "      <td>1175.213675</td>\n",
       "      <td>1009.414634</td>\n",
       "      <td>90.520000</td>\n",
       "    </tr>\n",
       "    <tr>\n",
       "      <th>4</th>\n",
       "      <td>COUNTRIES</td>\n",
       "      <td>ABW</td>\n",
       "      <td>Aruba</td>\n",
       "      <td>2023.0</td>\n",
       "      <td>DIPHCV5</td>\n",
       "      <td>Diphtheria-containing vaccine, 5th dose (2nd b...</td>\n",
       "      <td>ADMIN</td>\n",
       "      <td>Administrative coverage</td>\n",
       "      <td>1219.000000</td>\n",
       "      <td>1008.000000</td>\n",
       "      <td>82.690000</td>\n",
       "    </tr>\n",
       "  </tbody>\n",
       "</table>\n",
       "</div>"
      ],
      "text/plain": [
       "       GROUP CODE   NAME    YEAR  ANTIGEN  \\\n",
       "0  COUNTRIES  ABW  Aruba  2023.0      BCG   \n",
       "1  COUNTRIES  ABW  Aruba  2023.0      BCG   \n",
       "2  COUNTRIES  ABW  Aruba  2023.0  DIPHCV4   \n",
       "3  COUNTRIES  ABW  Aruba  2023.0  DIPHCV4   \n",
       "4  COUNTRIES  ABW  Aruba  2023.0  DIPHCV5   \n",
       "\n",
       "                                 ANTIGEN_DESCRIPTION COVERAGE_CATEGORY  \\\n",
       "0                                                BCG             ADMIN   \n",
       "1                                                BCG          OFFICIAL   \n",
       "2  Diphtheria-containing vaccine, 4th dose (1st b...             ADMIN   \n",
       "3  Diphtheria-containing vaccine, 4th dose (1st b...          OFFICIAL   \n",
       "4  Diphtheria-containing vaccine, 5th dose (2nd b...             ADMIN   \n",
       "\n",
       "  COVERAGE_CATEGORY_DESCRIPTION  TARGET_NUMBER        DOSES   COVERAGE  \n",
       "0       Administrative coverage    1175.213675  1009.414634  85.892009  \n",
       "1             Official coverage    1175.213675  1009.414634  85.892009  \n",
       "2       Administrative coverage    1044.000000   945.000000  90.520000  \n",
       "3             Official coverage    1175.213675  1009.414634  90.520000  \n",
       "4       Administrative coverage    1219.000000  1008.000000  82.690000  "
      ]
     },
     "execution_count": 21,
     "metadata": {},
     "output_type": "execute_result"
    }
   ],
   "source": [
    "df_coverage.head()"
   ]
  },
  {
   "cell_type": "code",
   "execution_count": 22,
   "id": "9049f07c",
   "metadata": {},
   "outputs": [
    {
     "data": {
      "text/plain": [
       "GROUP                               0\n",
       "CODE                                0\n",
       "NAME                                0\n",
       "YEAR                                0\n",
       "ANTIGEN                             0\n",
       "ANTIGEN_DESCRIPTION                 0\n",
       "COVERAGE_CATEGORY                   0\n",
       "COVERAGE_CATEGORY_DESCRIPTION       0\n",
       "TARGET_NUMBER                    3122\n",
       "DOSES                            6723\n",
       "COVERAGE                         5240\n",
       "dtype: int64"
      ]
     },
     "execution_count": 22,
     "metadata": {},
     "output_type": "execute_result"
    }
   ],
   "source": [
    "df_coverage.isnull().sum()"
   ]
  },
  {
   "cell_type": "code",
   "execution_count": 23,
   "id": "eaef919b",
   "metadata": {},
   "outputs": [],
   "source": [
    "df_coverage.dropna(inplace=True)"
   ]
  },
  {
   "cell_type": "code",
   "execution_count": 24,
   "id": "49df0451",
   "metadata": {},
   "outputs": [
    {
     "data": {
      "text/plain": [
       "(391802, 11)"
      ]
     },
     "execution_count": 24,
     "metadata": {},
     "output_type": "execute_result"
    }
   ],
   "source": [
    "df_coverage.shape"
   ]
  },
  {
   "cell_type": "code",
   "execution_count": null,
   "id": "ba676ee7",
   "metadata": {},
   "outputs": [],
   "source": [
    "# df_coverage.to_csv(\"COVERAGE.csv\")\n",
    "df_coverage.to_excel(\"COVERAGE.xlsx\")"
   ]
  },
  {
   "cell_type": "code",
   "execution_count": 26,
   "id": "70ce8189",
   "metadata": {},
   "outputs": [],
   "source": [
    "df_intro = pd.read_excel(\"vaccine-introduction-data.xlsx\")"
   ]
  },
  {
   "cell_type": "code",
   "execution_count": 27,
   "id": "b9a33917",
   "metadata": {},
   "outputs": [
    {
     "data": {
      "text/html": [
       "<div>\n",
       "<style scoped>\n",
       "    .dataframe tbody tr th:only-of-type {\n",
       "        vertical-align: middle;\n",
       "    }\n",
       "\n",
       "    .dataframe tbody tr th {\n",
       "        vertical-align: top;\n",
       "    }\n",
       "\n",
       "    .dataframe thead th {\n",
       "        text-align: right;\n",
       "    }\n",
       "</style>\n",
       "<table border=\"1\" class=\"dataframe\">\n",
       "  <thead>\n",
       "    <tr style=\"text-align: right;\">\n",
       "      <th></th>\n",
       "      <th>ISO_3_CODE</th>\n",
       "      <th>COUNTRYNAME</th>\n",
       "      <th>WHO_REGION</th>\n",
       "      <th>YEAR</th>\n",
       "      <th>DESCRIPTION</th>\n",
       "      <th>INTRO</th>\n",
       "    </tr>\n",
       "  </thead>\n",
       "  <tbody>\n",
       "    <tr>\n",
       "      <th>0</th>\n",
       "      <td>AFG</td>\n",
       "      <td>Afghanistan</td>\n",
       "      <td>EMRO</td>\n",
       "      <td>2023.0</td>\n",
       "      <td>aP (acellular pertussis) vaccine</td>\n",
       "      <td>No</td>\n",
       "    </tr>\n",
       "    <tr>\n",
       "      <th>1</th>\n",
       "      <td>AFG</td>\n",
       "      <td>Afghanistan</td>\n",
       "      <td>EMRO</td>\n",
       "      <td>2023.0</td>\n",
       "      <td>Hepatitis A vaccine</td>\n",
       "      <td>No</td>\n",
       "    </tr>\n",
       "    <tr>\n",
       "      <th>2</th>\n",
       "      <td>AFG</td>\n",
       "      <td>Afghanistan</td>\n",
       "      <td>EMRO</td>\n",
       "      <td>2023.0</td>\n",
       "      <td>Hepatitis B vaccine</td>\n",
       "      <td>Yes</td>\n",
       "    </tr>\n",
       "    <tr>\n",
       "      <th>3</th>\n",
       "      <td>AFG</td>\n",
       "      <td>Afghanistan</td>\n",
       "      <td>EMRO</td>\n",
       "      <td>2023.0</td>\n",
       "      <td>HepB birth dose</td>\n",
       "      <td>Yes</td>\n",
       "    </tr>\n",
       "    <tr>\n",
       "      <th>4</th>\n",
       "      <td>AFG</td>\n",
       "      <td>Afghanistan</td>\n",
       "      <td>EMRO</td>\n",
       "      <td>2023.0</td>\n",
       "      <td>Hib (Haemophilus influenzae type B) vaccine</td>\n",
       "      <td>Yes</td>\n",
       "    </tr>\n",
       "  </tbody>\n",
       "</table>\n",
       "</div>"
      ],
      "text/plain": [
       "  ISO_3_CODE  COUNTRYNAME WHO_REGION    YEAR  \\\n",
       "0        AFG  Afghanistan       EMRO  2023.0   \n",
       "1        AFG  Afghanistan       EMRO  2023.0   \n",
       "2        AFG  Afghanistan       EMRO  2023.0   \n",
       "3        AFG  Afghanistan       EMRO  2023.0   \n",
       "4        AFG  Afghanistan       EMRO  2023.0   \n",
       "\n",
       "                                   DESCRIPTION INTRO  \n",
       "0             aP (acellular pertussis) vaccine    No  \n",
       "1                          Hepatitis A vaccine    No  \n",
       "2                          Hepatitis B vaccine   Yes  \n",
       "3                              HepB birth dose   Yes  \n",
       "4  Hib (Haemophilus influenzae type B) vaccine   Yes  "
      ]
     },
     "execution_count": 27,
     "metadata": {},
     "output_type": "execute_result"
    }
   ],
   "source": [
    "df_intro.head()"
   ]
  },
  {
   "cell_type": "code",
   "execution_count": 28,
   "id": "1c0bd2c2",
   "metadata": {},
   "outputs": [
    {
     "name": "stdout",
     "output_type": "stream",
     "text": [
      "<class 'pandas.core.frame.DataFrame'>\n",
      "RangeIndex: 138321 entries, 0 to 138320\n",
      "Data columns (total 6 columns):\n",
      " #   Column       Non-Null Count   Dtype  \n",
      "---  ------       --------------   -----  \n",
      " 0   ISO_3_CODE   138321 non-null  object \n",
      " 1   COUNTRYNAME  138320 non-null  object \n",
      " 2   WHO_REGION   138320 non-null  object \n",
      " 3   YEAR         138320 non-null  float64\n",
      " 4   DESCRIPTION  138320 non-null  object \n",
      " 5   INTRO        138320 non-null  object \n",
      "dtypes: float64(1), object(5)\n",
      "memory usage: 6.3+ MB\n"
     ]
    }
   ],
   "source": [
    "df_intro.info()"
   ]
  },
  {
   "cell_type": "code",
   "execution_count": 29,
   "id": "8b2ca85e",
   "metadata": {},
   "outputs": [
    {
     "data": {
      "text/html": [
       "<div>\n",
       "<style scoped>\n",
       "    .dataframe tbody tr th:only-of-type {\n",
       "        vertical-align: middle;\n",
       "    }\n",
       "\n",
       "    .dataframe tbody tr th {\n",
       "        vertical-align: top;\n",
       "    }\n",
       "\n",
       "    .dataframe thead th {\n",
       "        text-align: right;\n",
       "    }\n",
       "</style>\n",
       "<table border=\"1\" class=\"dataframe\">\n",
       "  <thead>\n",
       "    <tr style=\"text-align: right;\">\n",
       "      <th></th>\n",
       "      <th>YEAR</th>\n",
       "    </tr>\n",
       "  </thead>\n",
       "  <tbody>\n",
       "    <tr>\n",
       "      <th>count</th>\n",
       "      <td>138320.000000</td>\n",
       "    </tr>\n",
       "    <tr>\n",
       "      <th>mean</th>\n",
       "      <td>2001.267879</td>\n",
       "    </tr>\n",
       "    <tr>\n",
       "      <th>std</th>\n",
       "      <td>17.679511</td>\n",
       "    </tr>\n",
       "    <tr>\n",
       "      <th>min</th>\n",
       "      <td>1940.000000</td>\n",
       "    </tr>\n",
       "    <tr>\n",
       "      <th>25%</th>\n",
       "      <td>1992.000000</td>\n",
       "    </tr>\n",
       "    <tr>\n",
       "      <th>50%</th>\n",
       "      <td>2006.000000</td>\n",
       "    </tr>\n",
       "    <tr>\n",
       "      <th>75%</th>\n",
       "      <td>2015.000000</td>\n",
       "    </tr>\n",
       "    <tr>\n",
       "      <th>max</th>\n",
       "      <td>2023.000000</td>\n",
       "    </tr>\n",
       "  </tbody>\n",
       "</table>\n",
       "</div>"
      ],
      "text/plain": [
       "                YEAR\n",
       "count  138320.000000\n",
       "mean     2001.267879\n",
       "std        17.679511\n",
       "min      1940.000000\n",
       "25%      1992.000000\n",
       "50%      2006.000000\n",
       "75%      2015.000000\n",
       "max      2023.000000"
      ]
     },
     "execution_count": 29,
     "metadata": {},
     "output_type": "execute_result"
    }
   ],
   "source": [
    "df_intro.describe()"
   ]
  },
  {
   "cell_type": "code",
   "execution_count": 30,
   "id": "2135bbdc",
   "metadata": {},
   "outputs": [
    {
     "data": {
      "text/plain": [
       "(138321, 6)"
      ]
     },
     "execution_count": 30,
     "metadata": {},
     "output_type": "execute_result"
    }
   ],
   "source": [
    "df_intro.shape"
   ]
  },
  {
   "cell_type": "code",
   "execution_count": 31,
   "id": "554bd5ef",
   "metadata": {},
   "outputs": [
    {
     "data": {
      "text/plain": [
       "ISO_3_CODE     0\n",
       "COUNTRYNAME    1\n",
       "WHO_REGION     1\n",
       "YEAR           1\n",
       "DESCRIPTION    1\n",
       "INTRO          1\n",
       "dtype: int64"
      ]
     },
     "execution_count": 31,
     "metadata": {},
     "output_type": "execute_result"
    }
   ],
   "source": [
    "df_intro.isnull().sum()"
   ]
  },
  {
   "cell_type": "code",
   "execution_count": 32,
   "id": "340893cd",
   "metadata": {},
   "outputs": [
    {
     "name": "stderr",
     "output_type": "stream",
     "text": [
      "C:\\Users\\ADHARSH\\AppData\\Local\\Temp\\ipykernel_11284\\1253835963.py:1: FutureWarning: A value is trying to be set on a copy of a DataFrame or Series through chained assignment using an inplace method.\n",
      "The behavior will change in pandas 3.0. This inplace method will never work because the intermediate object on which we are setting values always behaves as a copy.\n",
      "\n",
      "For example, when doing 'df[col].method(value, inplace=True)', try using 'df.method({col: value}, inplace=True)' or df[col] = df[col].method(value) instead, to perform the operation inplace on the original object.\n",
      "\n",
      "\n",
      "  df_intro[\"COUNTRYNAME\"].fillna(method=\"ffill\",inplace=True)\n",
      "C:\\Users\\ADHARSH\\AppData\\Local\\Temp\\ipykernel_11284\\1253835963.py:1: FutureWarning: Series.fillna with 'method' is deprecated and will raise in a future version. Use obj.ffill() or obj.bfill() instead.\n",
      "  df_intro[\"COUNTRYNAME\"].fillna(method=\"ffill\",inplace=True)\n",
      "C:\\Users\\ADHARSH\\AppData\\Local\\Temp\\ipykernel_11284\\1253835963.py:2: FutureWarning: A value is trying to be set on a copy of a DataFrame or Series through chained assignment using an inplace method.\n",
      "The behavior will change in pandas 3.0. This inplace method will never work because the intermediate object on which we are setting values always behaves as a copy.\n",
      "\n",
      "For example, when doing 'df[col].method(value, inplace=True)', try using 'df.method({col: value}, inplace=True)' or df[col] = df[col].method(value) instead, to perform the operation inplace on the original object.\n",
      "\n",
      "\n",
      "  df_intro[\"WHO_REGION\"].fillna(method=\"ffill\",inplace=True)\n",
      "C:\\Users\\ADHARSH\\AppData\\Local\\Temp\\ipykernel_11284\\1253835963.py:2: FutureWarning: Series.fillna with 'method' is deprecated and will raise in a future version. Use obj.ffill() or obj.bfill() instead.\n",
      "  df_intro[\"WHO_REGION\"].fillna(method=\"ffill\",inplace=True)\n",
      "C:\\Users\\ADHARSH\\AppData\\Local\\Temp\\ipykernel_11284\\1253835963.py:3: FutureWarning: A value is trying to be set on a copy of a DataFrame or Series through chained assignment using an inplace method.\n",
      "The behavior will change in pandas 3.0. This inplace method will never work because the intermediate object on which we are setting values always behaves as a copy.\n",
      "\n",
      "For example, when doing 'df[col].method(value, inplace=True)', try using 'df.method({col: value}, inplace=True)' or df[col] = df[col].method(value) instead, to perform the operation inplace on the original object.\n",
      "\n",
      "\n",
      "  df_intro[\"DESCRIPTION\"].fillna(value=\"Unknown\",inplace=True)\n",
      "C:\\Users\\ADHARSH\\AppData\\Local\\Temp\\ipykernel_11284\\1253835963.py:4: FutureWarning: A value is trying to be set on a copy of a DataFrame or Series through chained assignment using an inplace method.\n",
      "The behavior will change in pandas 3.0. This inplace method will never work because the intermediate object on which we are setting values always behaves as a copy.\n",
      "\n",
      "For example, when doing 'df[col].method(value, inplace=True)', try using 'df.method({col: value}, inplace=True)' or df[col] = df[col].method(value) instead, to perform the operation inplace on the original object.\n",
      "\n",
      "\n",
      "  df_intro[\"INTRO\"].fillna(method=\"ffill\",inplace=True)\n",
      "C:\\Users\\ADHARSH\\AppData\\Local\\Temp\\ipykernel_11284\\1253835963.py:4: FutureWarning: Series.fillna with 'method' is deprecated and will raise in a future version. Use obj.ffill() or obj.bfill() instead.\n",
      "  df_intro[\"INTRO\"].fillna(method=\"ffill\",inplace=True)\n"
     ]
    }
   ],
   "source": [
    "df_intro[\"COUNTRYNAME\"].fillna(method=\"ffill\",inplace=True)\n",
    "df_intro[\"WHO_REGION\"].fillna(method=\"ffill\",inplace=True)\n",
    "df_intro[\"DESCRIPTION\"].fillna(value=\"Unknown\",inplace=True)\n",
    "df_intro[\"INTRO\"].fillna(method=\"ffill\",inplace=True)"
   ]
  },
  {
   "cell_type": "code",
   "execution_count": 35,
   "id": "496d6f73",
   "metadata": {},
   "outputs": [
    {
     "data": {
      "text/plain": [
       "ISO_3_CODE     0\n",
       "COUNTRYNAME    0\n",
       "WHO_REGION     0\n",
       "YEAR           0\n",
       "DESCRIPTION    0\n",
       "INTRO          0\n",
       "dtype: int64"
      ]
     },
     "execution_count": 35,
     "metadata": {},
     "output_type": "execute_result"
    }
   ],
   "source": [
    "df_intro.isnull().sum()"
   ]
  },
  {
   "cell_type": "code",
   "execution_count": 34,
   "id": "67ed8001",
   "metadata": {},
   "outputs": [],
   "source": [
    "df_intro.dropna(inplace=True)"
   ]
  },
  {
   "cell_type": "code",
   "execution_count": 36,
   "id": "0c0dc34b",
   "metadata": {},
   "outputs": [],
   "source": [
    "df_intro.to_excel(\"VAC_INTRO.xlsx\")"
   ]
  },
  {
   "cell_type": "code",
   "execution_count": 37,
   "id": "391106b1",
   "metadata": {},
   "outputs": [],
   "source": [
    "df_incident = pd.read_excel(\"incidence-rate-data.xlsx\")"
   ]
  },
  {
   "cell_type": "code",
   "execution_count": 64,
   "id": "c4c85478",
   "metadata": {},
   "outputs": [
    {
     "data": {
      "text/html": [
       "<div>\n",
       "<style scoped>\n",
       "    .dataframe tbody tr th:only-of-type {\n",
       "        vertical-align: middle;\n",
       "    }\n",
       "\n",
       "    .dataframe tbody tr th {\n",
       "        vertical-align: top;\n",
       "    }\n",
       "\n",
       "    .dataframe thead th {\n",
       "        text-align: right;\n",
       "    }\n",
       "</style>\n",
       "<table border=\"1\" class=\"dataframe\">\n",
       "  <thead>\n",
       "    <tr style=\"text-align: right;\">\n",
       "      <th></th>\n",
       "      <th>GROUP</th>\n",
       "      <th>CODE</th>\n",
       "      <th>NAME</th>\n",
       "      <th>YEAR</th>\n",
       "      <th>DISEASE</th>\n",
       "      <th>DISEASE_DESCRIPTION</th>\n",
       "      <th>DENOMINATOR</th>\n",
       "      <th>INCIDENCE_RATE</th>\n",
       "    </tr>\n",
       "  </thead>\n",
       "  <tbody>\n",
       "    <tr>\n",
       "      <th>0</th>\n",
       "      <td>COUNTRIES</td>\n",
       "      <td>ABW</td>\n",
       "      <td>Aruba</td>\n",
       "      <td>2023.0</td>\n",
       "      <td>CRS</td>\n",
       "      <td>Congenital rubella syndrome</td>\n",
       "      <td>per 10,000 live births</td>\n",
       "      <td>0.0</td>\n",
       "    </tr>\n",
       "    <tr>\n",
       "      <th>1</th>\n",
       "      <td>COUNTRIES</td>\n",
       "      <td>ABW</td>\n",
       "      <td>Aruba</td>\n",
       "      <td>2023.0</td>\n",
       "      <td>DIPHTHERIA</td>\n",
       "      <td>Diphtheria</td>\n",
       "      <td>per 1,000,000 total population</td>\n",
       "      <td>0.0</td>\n",
       "    </tr>\n",
       "    <tr>\n",
       "      <th>2</th>\n",
       "      <td>COUNTRIES</td>\n",
       "      <td>ABW</td>\n",
       "      <td>Aruba</td>\n",
       "      <td>2023.0</td>\n",
       "      <td>INVASIVE_MENING</td>\n",
       "      <td>Invasive meningococcal disease</td>\n",
       "      <td>per 1,000,000 total population</td>\n",
       "      <td>9.3</td>\n",
       "    </tr>\n",
       "    <tr>\n",
       "      <th>3</th>\n",
       "      <td>COUNTRIES</td>\n",
       "      <td>ABW</td>\n",
       "      <td>Aruba</td>\n",
       "      <td>2023.0</td>\n",
       "      <td>MEASLES</td>\n",
       "      <td>Measles</td>\n",
       "      <td>per 1,000,000 total population</td>\n",
       "      <td>0.0</td>\n",
       "    </tr>\n",
       "    <tr>\n",
       "      <th>4</th>\n",
       "      <td>COUNTRIES</td>\n",
       "      <td>ABW</td>\n",
       "      <td>Aruba</td>\n",
       "      <td>2023.0</td>\n",
       "      <td>MUMPS</td>\n",
       "      <td>Mumps</td>\n",
       "      <td>per 1,000,000 total population</td>\n",
       "      <td>0.0</td>\n",
       "    </tr>\n",
       "    <tr>\n",
       "      <th>...</th>\n",
       "      <td>...</td>\n",
       "      <td>...</td>\n",
       "      <td>...</td>\n",
       "      <td>...</td>\n",
       "      <td>...</td>\n",
       "      <td>...</td>\n",
       "      <td>...</td>\n",
       "      <td>...</td>\n",
       "    </tr>\n",
       "    <tr>\n",
       "      <th>84941</th>\n",
       "      <td>COUNTRIES</td>\n",
       "      <td>ZWE</td>\n",
       "      <td>Zimbabwe</td>\n",
       "      <td>1980.0</td>\n",
       "      <td>PERTUSSIS</td>\n",
       "      <td>Pertussis</td>\n",
       "      <td>per 1,000,000 total population</td>\n",
       "      <td>893.3</td>\n",
       "    </tr>\n",
       "    <tr>\n",
       "      <th>84942</th>\n",
       "      <td>COUNTRIES</td>\n",
       "      <td>ZWE</td>\n",
       "      <td>Zimbabwe</td>\n",
       "      <td>1980.0</td>\n",
       "      <td>POLIO</td>\n",
       "      <td>Poliomyelitis</td>\n",
       "      <td>per 1,000,000 &lt;15 population</td>\n",
       "      <td>0.0</td>\n",
       "    </tr>\n",
       "    <tr>\n",
       "      <th>84943</th>\n",
       "      <td>COUNTRIES</td>\n",
       "      <td>ZWE</td>\n",
       "      <td>Zimbabwe</td>\n",
       "      <td>1980.0</td>\n",
       "      <td>TTETANUS</td>\n",
       "      <td>Total tetanus</td>\n",
       "      <td>per 1,000,000 total population</td>\n",
       "      <td>19.7</td>\n",
       "    </tr>\n",
       "    <tr>\n",
       "      <th>84944</th>\n",
       "      <td>COUNTRIES</td>\n",
       "      <td>ZWE</td>\n",
       "      <td>Zimbabwe</td>\n",
       "      <td>1980.0</td>\n",
       "      <td>YFEVER</td>\n",
       "      <td>Yellow fever</td>\n",
       "      <td>per 1,000,000 total population</td>\n",
       "      <td>0.0</td>\n",
       "    </tr>\n",
       "    <tr>\n",
       "      <th>84945</th>\n",
       "      <td>Created: 2025-02-01 16:03 UTC</td>\n",
       "      <td>ZWE</td>\n",
       "      <td>Zimbabwe</td>\n",
       "      <td>2006.0</td>\n",
       "      <td>NaN</td>\n",
       "      <td>NaN</td>\n",
       "      <td>NaN</td>\n",
       "      <td>0.0</td>\n",
       "    </tr>\n",
       "  </tbody>\n",
       "</table>\n",
       "<p>84946 rows × 8 columns</p>\n",
       "</div>"
      ],
      "text/plain": [
       "                               GROUP CODE      NAME    YEAR          DISEASE  \\\n",
       "0                          COUNTRIES  ABW     Aruba  2023.0              CRS   \n",
       "1                          COUNTRIES  ABW     Aruba  2023.0       DIPHTHERIA   \n",
       "2                          COUNTRIES  ABW     Aruba  2023.0  INVASIVE_MENING   \n",
       "3                          COUNTRIES  ABW     Aruba  2023.0          MEASLES   \n",
       "4                          COUNTRIES  ABW     Aruba  2023.0            MUMPS   \n",
       "...                              ...  ...       ...     ...              ...   \n",
       "84941                      COUNTRIES  ZWE  Zimbabwe  1980.0        PERTUSSIS   \n",
       "84942                      COUNTRIES  ZWE  Zimbabwe  1980.0            POLIO   \n",
       "84943                      COUNTRIES  ZWE  Zimbabwe  1980.0         TTETANUS   \n",
       "84944                      COUNTRIES  ZWE  Zimbabwe  1980.0           YFEVER   \n",
       "84945  Created: 2025-02-01 16:03 UTC  ZWE  Zimbabwe  2006.0              NaN   \n",
       "\n",
       "                  DISEASE_DESCRIPTION                     DENOMINATOR  \\\n",
       "0         Congenital rubella syndrome          per 10,000 live births   \n",
       "1                          Diphtheria  per 1,000,000 total population   \n",
       "2      Invasive meningococcal disease  per 1,000,000 total population   \n",
       "3                             Measles  per 1,000,000 total population   \n",
       "4                               Mumps  per 1,000,000 total population   \n",
       "...                               ...                             ...   \n",
       "84941                       Pertussis  per 1,000,000 total population   \n",
       "84942                   Poliomyelitis    per 1,000,000 <15 population   \n",
       "84943                   Total tetanus  per 1,000,000 total population   \n",
       "84944                    Yellow fever  per 1,000,000 total population   \n",
       "84945                             NaN                             NaN   \n",
       "\n",
       "       INCIDENCE_RATE  \n",
       "0                 0.0  \n",
       "1                 0.0  \n",
       "2                 9.3  \n",
       "3                 0.0  \n",
       "4                 0.0  \n",
       "...               ...  \n",
       "84941           893.3  \n",
       "84942             0.0  \n",
       "84943            19.7  \n",
       "84944             0.0  \n",
       "84945             0.0  \n",
       "\n",
       "[84946 rows x 8 columns]"
      ]
     },
     "execution_count": 64,
     "metadata": {},
     "output_type": "execute_result"
    }
   ],
   "source": [
    "df_incident.head(84946)"
   ]
  },
  {
   "cell_type": "code",
   "execution_count": 40,
   "id": "e5840eaa",
   "metadata": {},
   "outputs": [
    {
     "data": {
      "text/html": [
       "<div>\n",
       "<style scoped>\n",
       "    .dataframe tbody tr th:only-of-type {\n",
       "        vertical-align: middle;\n",
       "    }\n",
       "\n",
       "    .dataframe tbody tr th {\n",
       "        vertical-align: top;\n",
       "    }\n",
       "\n",
       "    .dataframe thead th {\n",
       "        text-align: right;\n",
       "    }\n",
       "</style>\n",
       "<table border=\"1\" class=\"dataframe\">\n",
       "  <thead>\n",
       "    <tr style=\"text-align: right;\">\n",
       "      <th></th>\n",
       "      <th>YEAR</th>\n",
       "      <th>INCIDENCE_RATE</th>\n",
       "    </tr>\n",
       "  </thead>\n",
       "  <tbody>\n",
       "    <tr>\n",
       "      <th>count</th>\n",
       "      <td>84945.000000</td>\n",
       "      <td>61584.000000</td>\n",
       "    </tr>\n",
       "    <tr>\n",
       "      <th>mean</th>\n",
       "      <td>2004.095791</td>\n",
       "      <td>109.448781</td>\n",
       "    </tr>\n",
       "    <tr>\n",
       "      <th>std</th>\n",
       "      <td>12.595166</td>\n",
       "      <td>992.276983</td>\n",
       "    </tr>\n",
       "    <tr>\n",
       "      <th>min</th>\n",
       "      <td>1980.000000</td>\n",
       "      <td>0.000000</td>\n",
       "    </tr>\n",
       "    <tr>\n",
       "      <th>25%</th>\n",
       "      <td>1994.000000</td>\n",
       "      <td>0.000000</td>\n",
       "    </tr>\n",
       "    <tr>\n",
       "      <th>50%</th>\n",
       "      <td>2005.000000</td>\n",
       "      <td>0.000000</td>\n",
       "    </tr>\n",
       "    <tr>\n",
       "      <th>75%</th>\n",
       "      <td>2015.000000</td>\n",
       "      <td>4.600000</td>\n",
       "    </tr>\n",
       "    <tr>\n",
       "      <th>max</th>\n",
       "      <td>2023.000000</td>\n",
       "      <td>69101.300000</td>\n",
       "    </tr>\n",
       "  </tbody>\n",
       "</table>\n",
       "</div>"
      ],
      "text/plain": [
       "               YEAR  INCIDENCE_RATE\n",
       "count  84945.000000    61584.000000\n",
       "mean    2004.095791      109.448781\n",
       "std       12.595166      992.276983\n",
       "min     1980.000000        0.000000\n",
       "25%     1994.000000        0.000000\n",
       "50%     2005.000000        0.000000\n",
       "75%     2015.000000        4.600000\n",
       "max     2023.000000    69101.300000"
      ]
     },
     "execution_count": 40,
     "metadata": {},
     "output_type": "execute_result"
    }
   ],
   "source": [
    "df_incident.describe()"
   ]
  },
  {
   "cell_type": "code",
   "execution_count": 41,
   "id": "68ca2830",
   "metadata": {},
   "outputs": [
    {
     "data": {
      "text/plain": [
       "(84946, 8)"
      ]
     },
     "execution_count": 41,
     "metadata": {},
     "output_type": "execute_result"
    }
   ],
   "source": [
    "df_incident.shape"
   ]
  },
  {
   "cell_type": "code",
   "execution_count": 42,
   "id": "9122f7fd",
   "metadata": {},
   "outputs": [
    {
     "name": "stdout",
     "output_type": "stream",
     "text": [
      "<class 'pandas.core.frame.DataFrame'>\n",
      "RangeIndex: 84946 entries, 0 to 84945\n",
      "Data columns (total 8 columns):\n",
      " #   Column               Non-Null Count  Dtype  \n",
      "---  ------               --------------  -----  \n",
      " 0   GROUP                84946 non-null  object \n",
      " 1   CODE                 84945 non-null  object \n",
      " 2   NAME                 84945 non-null  object \n",
      " 3   YEAR                 84945 non-null  float64\n",
      " 4   DISEASE              84945 non-null  object \n",
      " 5   DISEASE_DESCRIPTION  84945 non-null  object \n",
      " 6   DENOMINATOR          84945 non-null  object \n",
      " 7   INCIDENCE_RATE       61584 non-null  float64\n",
      "dtypes: float64(2), object(6)\n",
      "memory usage: 5.2+ MB\n"
     ]
    }
   ],
   "source": [
    "df_incident.info()"
   ]
  },
  {
   "cell_type": "code",
   "execution_count": 61,
   "id": "54232436",
   "metadata": {},
   "outputs": [
    {
     "data": {
      "text/plain": [
       "0        False\n",
       "1        False\n",
       "2        False\n",
       "3        False\n",
       "4        False\n",
       "         ...  \n",
       "84941    False\n",
       "84942    False\n",
       "84943    False\n",
       "84944    False\n",
       "84945     True\n",
       "Name: DISEASE, Length: 84946, dtype: bool"
      ]
     },
     "execution_count": 61,
     "metadata": {},
     "output_type": "execute_result"
    }
   ],
   "source": [
    "df_incident[\"DISEASE\"].isnull()"
   ]
  },
  {
   "cell_type": "code",
   "execution_count": 47,
   "id": "fe96dd97",
   "metadata": {},
   "outputs": [
    {
     "name": "stderr",
     "output_type": "stream",
     "text": [
      "C:\\Users\\ADHARSH\\AppData\\Local\\Temp\\ipykernel_11284\\1609299482.py:1: FutureWarning: Series.fillna with 'method' is deprecated and will raise in a future version. Use obj.ffill() or obj.bfill() instead.\n",
      "  df_incident[\"CODE\"].fillna(method=\"ffill\",inplace=True)\n",
      "C:\\Users\\ADHARSH\\AppData\\Local\\Temp\\ipykernel_11284\\1609299482.py:2: FutureWarning: Series.fillna with 'method' is deprecated and will raise in a future version. Use obj.ffill() or obj.bfill() instead.\n",
      "  df_incident[\"NAME\"].fillna(method=\"ffill\",inplace=True)\n"
     ]
    }
   ],
   "source": [
    "df_incident[\"CODE\"].fillna(method=\"ffill\",inplace=True)\n",
    "df_incident[\"NAME\"].fillna(method=\"ffill\",inplace=True)"
   ]
  },
  {
   "cell_type": "code",
   "execution_count": null,
   "id": "290e4a09",
   "metadata": {},
   "outputs": [
    {
     "name": "stderr",
     "output_type": "stream",
     "text": [
      "C:\\Users\\ADHARSH\\AppData\\Local\\Temp\\ipykernel_11284\\2104162822.py:2: FutureWarning: A value is trying to be set on a copy of a DataFrame or Series through chained assignment using an inplace method.\n",
      "The behavior will change in pandas 3.0. This inplace method will never work because the intermediate object on which we are setting values always behaves as a copy.\n",
      "\n",
      "For example, when doing 'df[col].method(value, inplace=True)', try using 'df.method({col: value}, inplace=True)' or df[col] = df[col].method(value) instead, to perform the operation inplace on the original object.\n",
      "\n",
      "\n",
      "  df_incident['YEAR'].fillna(group_med, inplace=True)\n"
     ]
    }
   ],
   "source": [
    "group_med1 = df_incident.groupby('CODE')['YEAR'].transform('median')\n",
    "df_incident['YEAR'].fillna(group_med1, inplace=True)"
   ]
  },
  {
   "cell_type": "code",
   "execution_count": 54,
   "id": "f89b907d",
   "metadata": {},
   "outputs": [
    {
     "name": "stderr",
     "output_type": "stream",
     "text": [
      "C:\\Users\\ADHARSH\\AppData\\Local\\Temp\\ipykernel_11284\\4010840065.py:2: FutureWarning: A value is trying to be set on a copy of a DataFrame or Series through chained assignment using an inplace method.\n",
      "The behavior will change in pandas 3.0. This inplace method will never work because the intermediate object on which we are setting values always behaves as a copy.\n",
      "\n",
      "For example, when doing 'df[col].method(value, inplace=True)', try using 'df.method({col: value}, inplace=True)' or df[col] = df[col].method(value) instead, to perform the operation inplace on the original object.\n",
      "\n",
      "\n",
      "  df_incident['INCIDENCE_RATE'].fillna(group_med2, inplace=True)\n"
     ]
    }
   ],
   "source": [
    "group_med2 = df_incident.groupby('CODE')['INCIDENCE_RATE'].transform('median')\n",
    "df_incident['INCIDENCE_RATE'].fillna(group_med2, inplace=True)"
   ]
  },
  {
   "cell_type": "code",
   "execution_count": 56,
   "id": "eb565b26",
   "metadata": {},
   "outputs": [
    {
     "name": "stderr",
     "output_type": "stream",
     "text": [
      "C:\\Users\\ADHARSH\\AppData\\Local\\Temp\\ipykernel_11284\\2457953642.py:8: FutureWarning: A value is trying to be set on a copy of a DataFrame or Series through chained assignment using an inplace method.\n",
      "The behavior will change in pandas 3.0. This inplace method will never work because the intermediate object on which we are setting values always behaves as a copy.\n",
      "\n",
      "For example, when doing 'df[col].method(value, inplace=True)', try using 'df.method({col: value}, inplace=True)' or df[col] = df[col].method(value) instead, to perform the operation inplace on the original object.\n",
      "\n",
      "\n",
      "  df_incident['DISEASE_DESCRIPTION'].fillna(df_incident['DISEASE'].map(disease_map), inplace=True)\n",
      "C:\\Users\\ADHARSH\\AppData\\Local\\Temp\\ipykernel_11284\\2457953642.py:11: FutureWarning: A value is trying to be set on a copy of a DataFrame or Series through chained assignment using an inplace method.\n",
      "The behavior will change in pandas 3.0. This inplace method will never work because the intermediate object on which we are setting values always behaves as a copy.\n",
      "\n",
      "For example, when doing 'df[col].method(value, inplace=True)', try using 'df.method({col: value}, inplace=True)' or df[col] = df[col].method(value) instead, to perform the operation inplace on the original object.\n",
      "\n",
      "\n",
      "  df_incident['DISEASE'].fillna(df_incident['DISEASE_DESCRIPTION'].map(description_map), inplace=True)\n"
     ]
    }
   ],
   "source": [
    "# Map DISEASE to DISEASE_DESCRIPTION\n",
    "disease_map = df_incident.set_index('DISEASE')['DISEASE_DESCRIPTION'].dropna().to_dict()\n",
    "\n",
    "# Map DISEASE_DESCRIPTION to DISEASE\n",
    "description_map = df_incident.set_index('DISEASE_DESCRIPTION')['DISEASE'].dropna().to_dict()\n",
    "\n",
    "# Fill missing DISEASE_DESCRIPTION using known DISEASE values (in-place)\n",
    "df_incident['DISEASE_DESCRIPTION'].fillna(df_incident['DISEASE'].map(disease_map), inplace=True)\n",
    "\n",
    "# Fill missing DISEASE using known DISEASE_DESCRIPTION values (in-place)\n",
    "df_incident['DISEASE'].fillna(df_incident['DISEASE_DESCRIPTION'].map(description_map), inplace=True)\n"
   ]
  },
  {
   "cell_type": "code",
   "execution_count": 69,
   "id": "35615308",
   "metadata": {},
   "outputs": [],
   "source": [
    "#since both disease and disease des ription is empty the above method doesnt work since both are null the and also the row doesnt have much meaning full data we just drop the row\n",
    "df_incident.dropna(subset=['DISEASE'], inplace=True)\n"
   ]
  },
  {
   "cell_type": "code",
   "execution_count": 70,
   "id": "bcad6fcd",
   "metadata": {},
   "outputs": [
    {
     "data": {
      "text/plain": [
       "GROUP                  0\n",
       "CODE                   0\n",
       "NAME                   0\n",
       "YEAR                   0\n",
       "DISEASE                0\n",
       "DISEASE_DESCRIPTION    0\n",
       "DENOMINATOR            0\n",
       "INCIDENCE_RATE         0\n",
       "dtype: int64"
      ]
     },
     "execution_count": 70,
     "metadata": {},
     "output_type": "execute_result"
    }
   ],
   "source": [
    "df_incident.isnull().sum()"
   ]
  },
  {
   "cell_type": "code",
   "execution_count": 71,
   "id": "eb063082",
   "metadata": {},
   "outputs": [
    {
     "data": {
      "text/html": [
       "<div>\n",
       "<style scoped>\n",
       "    .dataframe tbody tr th:only-of-type {\n",
       "        vertical-align: middle;\n",
       "    }\n",
       "\n",
       "    .dataframe tbody tr th {\n",
       "        vertical-align: top;\n",
       "    }\n",
       "\n",
       "    .dataframe thead th {\n",
       "        text-align: right;\n",
       "    }\n",
       "</style>\n",
       "<table border=\"1\" class=\"dataframe\">\n",
       "  <thead>\n",
       "    <tr style=\"text-align: right;\">\n",
       "      <th></th>\n",
       "      <th>GROUP</th>\n",
       "      <th>CODE</th>\n",
       "      <th>NAME</th>\n",
       "      <th>YEAR</th>\n",
       "      <th>DISEASE</th>\n",
       "      <th>DISEASE_DESCRIPTION</th>\n",
       "      <th>DENOMINATOR</th>\n",
       "      <th>INCIDENCE_RATE</th>\n",
       "    </tr>\n",
       "  </thead>\n",
       "  <tbody>\n",
       "    <tr>\n",
       "      <th>0</th>\n",
       "      <td>COUNTRIES</td>\n",
       "      <td>ABW</td>\n",
       "      <td>Aruba</td>\n",
       "      <td>2023.0</td>\n",
       "      <td>CRS</td>\n",
       "      <td>Congenital rubella syndrome</td>\n",
       "      <td>per 10,000 live births</td>\n",
       "      <td>0.0</td>\n",
       "    </tr>\n",
       "    <tr>\n",
       "      <th>1</th>\n",
       "      <td>COUNTRIES</td>\n",
       "      <td>ABW</td>\n",
       "      <td>Aruba</td>\n",
       "      <td>2023.0</td>\n",
       "      <td>DIPHTHERIA</td>\n",
       "      <td>Diphtheria</td>\n",
       "      <td>per 1,000,000 total population</td>\n",
       "      <td>0.0</td>\n",
       "    </tr>\n",
       "    <tr>\n",
       "      <th>2</th>\n",
       "      <td>COUNTRIES</td>\n",
       "      <td>ABW</td>\n",
       "      <td>Aruba</td>\n",
       "      <td>2023.0</td>\n",
       "      <td>INVASIVE_MENING</td>\n",
       "      <td>Invasive meningococcal disease</td>\n",
       "      <td>per 1,000,000 total population</td>\n",
       "      <td>9.3</td>\n",
       "    </tr>\n",
       "    <tr>\n",
       "      <th>3</th>\n",
       "      <td>COUNTRIES</td>\n",
       "      <td>ABW</td>\n",
       "      <td>Aruba</td>\n",
       "      <td>2023.0</td>\n",
       "      <td>MEASLES</td>\n",
       "      <td>Measles</td>\n",
       "      <td>per 1,000,000 total population</td>\n",
       "      <td>0.0</td>\n",
       "    </tr>\n",
       "    <tr>\n",
       "      <th>4</th>\n",
       "      <td>COUNTRIES</td>\n",
       "      <td>ABW</td>\n",
       "      <td>Aruba</td>\n",
       "      <td>2023.0</td>\n",
       "      <td>MUMPS</td>\n",
       "      <td>Mumps</td>\n",
       "      <td>per 1,000,000 total population</td>\n",
       "      <td>0.0</td>\n",
       "    </tr>\n",
       "  </tbody>\n",
       "</table>\n",
       "</div>"
      ],
      "text/plain": [
       "       GROUP CODE   NAME    YEAR          DISEASE  \\\n",
       "0  COUNTRIES  ABW  Aruba  2023.0              CRS   \n",
       "1  COUNTRIES  ABW  Aruba  2023.0       DIPHTHERIA   \n",
       "2  COUNTRIES  ABW  Aruba  2023.0  INVASIVE_MENING   \n",
       "3  COUNTRIES  ABW  Aruba  2023.0          MEASLES   \n",
       "4  COUNTRIES  ABW  Aruba  2023.0            MUMPS   \n",
       "\n",
       "              DISEASE_DESCRIPTION                     DENOMINATOR  \\\n",
       "0     Congenital rubella syndrome          per 10,000 live births   \n",
       "1                      Diphtheria  per 1,000,000 total population   \n",
       "2  Invasive meningococcal disease  per 1,000,000 total population   \n",
       "3                         Measles  per 1,000,000 total population   \n",
       "4                           Mumps  per 1,000,000 total population   \n",
       "\n",
       "   INCIDENCE_RATE  \n",
       "0             0.0  \n",
       "1             0.0  \n",
       "2             9.3  \n",
       "3             0.0  \n",
       "4             0.0  "
      ]
     },
     "execution_count": 71,
     "metadata": {},
     "output_type": "execute_result"
    }
   ],
   "source": [
    "df_incident.head()"
   ]
  },
  {
   "cell_type": "code",
   "execution_count": 72,
   "id": "bc28e7a6",
   "metadata": {},
   "outputs": [
    {
     "data": {
      "text/plain": [
       "(84945, 8)"
      ]
     },
     "execution_count": 72,
     "metadata": {},
     "output_type": "execute_result"
    }
   ],
   "source": [
    "df_incident.shape"
   ]
  },
  {
   "cell_type": "code",
   "execution_count": 73,
   "id": "be11a057",
   "metadata": {},
   "outputs": [
    {
     "data": {
      "text/html": [
       "<div>\n",
       "<style scoped>\n",
       "    .dataframe tbody tr th:only-of-type {\n",
       "        vertical-align: middle;\n",
       "    }\n",
       "\n",
       "    .dataframe tbody tr th {\n",
       "        vertical-align: top;\n",
       "    }\n",
       "\n",
       "    .dataframe thead th {\n",
       "        text-align: right;\n",
       "    }\n",
       "</style>\n",
       "<table border=\"1\" class=\"dataframe\">\n",
       "  <thead>\n",
       "    <tr style=\"text-align: right;\">\n",
       "      <th></th>\n",
       "      <th>GROUP</th>\n",
       "      <th>CODE</th>\n",
       "      <th>NAME</th>\n",
       "      <th>YEAR</th>\n",
       "      <th>DISEASE</th>\n",
       "      <th>DISEASE_DESCRIPTION</th>\n",
       "      <th>DENOMINATOR</th>\n",
       "      <th>INCIDENCE_RATE</th>\n",
       "    </tr>\n",
       "  </thead>\n",
       "  <tbody>\n",
       "    <tr>\n",
       "      <th>0</th>\n",
       "      <td>COUNTRIES</td>\n",
       "      <td>ABW</td>\n",
       "      <td>Aruba</td>\n",
       "      <td>2023.0</td>\n",
       "      <td>CRS</td>\n",
       "      <td>Congenital rubella syndrome</td>\n",
       "      <td>per 10,000 live births</td>\n",
       "      <td>0.0</td>\n",
       "    </tr>\n",
       "    <tr>\n",
       "      <th>1</th>\n",
       "      <td>COUNTRIES</td>\n",
       "      <td>ABW</td>\n",
       "      <td>Aruba</td>\n",
       "      <td>2023.0</td>\n",
       "      <td>DIPHTHERIA</td>\n",
       "      <td>Diphtheria</td>\n",
       "      <td>per 1,000,000 total population</td>\n",
       "      <td>0.0</td>\n",
       "    </tr>\n",
       "    <tr>\n",
       "      <th>2</th>\n",
       "      <td>COUNTRIES</td>\n",
       "      <td>ABW</td>\n",
       "      <td>Aruba</td>\n",
       "      <td>2023.0</td>\n",
       "      <td>INVASIVE_MENING</td>\n",
       "      <td>Invasive meningococcal disease</td>\n",
       "      <td>per 1,000,000 total population</td>\n",
       "      <td>9.3</td>\n",
       "    </tr>\n",
       "    <tr>\n",
       "      <th>3</th>\n",
       "      <td>COUNTRIES</td>\n",
       "      <td>ABW</td>\n",
       "      <td>Aruba</td>\n",
       "      <td>2023.0</td>\n",
       "      <td>MEASLES</td>\n",
       "      <td>Measles</td>\n",
       "      <td>per 1,000,000 total population</td>\n",
       "      <td>0.0</td>\n",
       "    </tr>\n",
       "    <tr>\n",
       "      <th>4</th>\n",
       "      <td>COUNTRIES</td>\n",
       "      <td>ABW</td>\n",
       "      <td>Aruba</td>\n",
       "      <td>2023.0</td>\n",
       "      <td>MUMPS</td>\n",
       "      <td>Mumps</td>\n",
       "      <td>per 1,000,000 total population</td>\n",
       "      <td>0.0</td>\n",
       "    </tr>\n",
       "    <tr>\n",
       "      <th>...</th>\n",
       "      <td>...</td>\n",
       "      <td>...</td>\n",
       "      <td>...</td>\n",
       "      <td>...</td>\n",
       "      <td>...</td>\n",
       "      <td>...</td>\n",
       "      <td>...</td>\n",
       "      <td>...</td>\n",
       "    </tr>\n",
       "    <tr>\n",
       "      <th>84940</th>\n",
       "      <td>COUNTRIES</td>\n",
       "      <td>ZWE</td>\n",
       "      <td>Zimbabwe</td>\n",
       "      <td>1980.0</td>\n",
       "      <td>NTETANUS</td>\n",
       "      <td>Neonatal tetanus</td>\n",
       "      <td>per 1,000 live births</td>\n",
       "      <td>0.4</td>\n",
       "    </tr>\n",
       "    <tr>\n",
       "      <th>84941</th>\n",
       "      <td>COUNTRIES</td>\n",
       "      <td>ZWE</td>\n",
       "      <td>Zimbabwe</td>\n",
       "      <td>1980.0</td>\n",
       "      <td>PERTUSSIS</td>\n",
       "      <td>Pertussis</td>\n",
       "      <td>per 1,000,000 total population</td>\n",
       "      <td>893.3</td>\n",
       "    </tr>\n",
       "    <tr>\n",
       "      <th>84942</th>\n",
       "      <td>COUNTRIES</td>\n",
       "      <td>ZWE</td>\n",
       "      <td>Zimbabwe</td>\n",
       "      <td>1980.0</td>\n",
       "      <td>POLIO</td>\n",
       "      <td>Poliomyelitis</td>\n",
       "      <td>per 1,000,000 &lt;15 population</td>\n",
       "      <td>0.0</td>\n",
       "    </tr>\n",
       "    <tr>\n",
       "      <th>84943</th>\n",
       "      <td>COUNTRIES</td>\n",
       "      <td>ZWE</td>\n",
       "      <td>Zimbabwe</td>\n",
       "      <td>1980.0</td>\n",
       "      <td>TTETANUS</td>\n",
       "      <td>Total tetanus</td>\n",
       "      <td>per 1,000,000 total population</td>\n",
       "      <td>19.7</td>\n",
       "    </tr>\n",
       "    <tr>\n",
       "      <th>84944</th>\n",
       "      <td>COUNTRIES</td>\n",
       "      <td>ZWE</td>\n",
       "      <td>Zimbabwe</td>\n",
       "      <td>1980.0</td>\n",
       "      <td>YFEVER</td>\n",
       "      <td>Yellow fever</td>\n",
       "      <td>per 1,000,000 total population</td>\n",
       "      <td>0.0</td>\n",
       "    </tr>\n",
       "  </tbody>\n",
       "</table>\n",
       "<p>84945 rows × 8 columns</p>\n",
       "</div>"
      ],
      "text/plain": [
       "           GROUP CODE      NAME    YEAR          DISEASE  \\\n",
       "0      COUNTRIES  ABW     Aruba  2023.0              CRS   \n",
       "1      COUNTRIES  ABW     Aruba  2023.0       DIPHTHERIA   \n",
       "2      COUNTRIES  ABW     Aruba  2023.0  INVASIVE_MENING   \n",
       "3      COUNTRIES  ABW     Aruba  2023.0          MEASLES   \n",
       "4      COUNTRIES  ABW     Aruba  2023.0            MUMPS   \n",
       "...          ...  ...       ...     ...              ...   \n",
       "84940  COUNTRIES  ZWE  Zimbabwe  1980.0         NTETANUS   \n",
       "84941  COUNTRIES  ZWE  Zimbabwe  1980.0        PERTUSSIS   \n",
       "84942  COUNTRIES  ZWE  Zimbabwe  1980.0            POLIO   \n",
       "84943  COUNTRIES  ZWE  Zimbabwe  1980.0         TTETANUS   \n",
       "84944  COUNTRIES  ZWE  Zimbabwe  1980.0           YFEVER   \n",
       "\n",
       "                  DISEASE_DESCRIPTION                     DENOMINATOR  \\\n",
       "0         Congenital rubella syndrome          per 10,000 live births   \n",
       "1                          Diphtheria  per 1,000,000 total population   \n",
       "2      Invasive meningococcal disease  per 1,000,000 total population   \n",
       "3                             Measles  per 1,000,000 total population   \n",
       "4                               Mumps  per 1,000,000 total population   \n",
       "...                               ...                             ...   \n",
       "84940                Neonatal tetanus           per 1,000 live births   \n",
       "84941                       Pertussis  per 1,000,000 total population   \n",
       "84942                   Poliomyelitis    per 1,000,000 <15 population   \n",
       "84943                   Total tetanus  per 1,000,000 total population   \n",
       "84944                    Yellow fever  per 1,000,000 total population   \n",
       "\n",
       "       INCIDENCE_RATE  \n",
       "0                 0.0  \n",
       "1                 0.0  \n",
       "2                 9.3  \n",
       "3                 0.0  \n",
       "4                 0.0  \n",
       "...               ...  \n",
       "84940             0.4  \n",
       "84941           893.3  \n",
       "84942             0.0  \n",
       "84943            19.7  \n",
       "84944             0.0  \n",
       "\n",
       "[84945 rows x 8 columns]"
      ]
     },
     "execution_count": 73,
     "metadata": {},
     "output_type": "execute_result"
    }
   ],
   "source": [
    "df_incident.drop_duplicates()"
   ]
  },
  {
   "cell_type": "code",
   "execution_count": 74,
   "id": "0914affd",
   "metadata": {},
   "outputs": [
    {
     "data": {
      "text/plain": [
       "(84945, 8)"
      ]
     },
     "execution_count": 74,
     "metadata": {},
     "output_type": "execute_result"
    }
   ],
   "source": [
    "df_incident.shape"
   ]
  },
  {
   "cell_type": "code",
   "execution_count": 75,
   "id": "56b53966",
   "metadata": {},
   "outputs": [],
   "source": [
    "df_incident.to_excel(\"INCIDENT.xlsx\")"
   ]
  },
  {
   "cell_type": "code",
   "execution_count": 76,
   "id": "895caaf6",
   "metadata": {},
   "outputs": [],
   "source": [
    "df_report = pd.read_excel(\"reported-cases-data.xlsx\")"
   ]
  },
  {
   "cell_type": "code",
   "execution_count": 77,
   "id": "0deb9c41",
   "metadata": {},
   "outputs": [
    {
     "data": {
      "text/html": [
       "<div>\n",
       "<style scoped>\n",
       "    .dataframe tbody tr th:only-of-type {\n",
       "        vertical-align: middle;\n",
       "    }\n",
       "\n",
       "    .dataframe tbody tr th {\n",
       "        vertical-align: top;\n",
       "    }\n",
       "\n",
       "    .dataframe thead th {\n",
       "        text-align: right;\n",
       "    }\n",
       "</style>\n",
       "<table border=\"1\" class=\"dataframe\">\n",
       "  <thead>\n",
       "    <tr style=\"text-align: right;\">\n",
       "      <th></th>\n",
       "      <th>YEAR</th>\n",
       "      <th>CASES</th>\n",
       "    </tr>\n",
       "  </thead>\n",
       "  <tbody>\n",
       "    <tr>\n",
       "      <th>count</th>\n",
       "      <td>84869.000000</td>\n",
       "      <td>6.547000e+04</td>\n",
       "    </tr>\n",
       "    <tr>\n",
       "      <th>mean</th>\n",
       "      <td>2004.108261</td>\n",
       "      <td>4.472409e+03</td>\n",
       "    </tr>\n",
       "    <tr>\n",
       "      <th>std</th>\n",
       "      <td>12.591396</td>\n",
       "      <td>6.114455e+04</td>\n",
       "    </tr>\n",
       "    <tr>\n",
       "      <th>min</th>\n",
       "      <td>1980.000000</td>\n",
       "      <td>0.000000e+00</td>\n",
       "    </tr>\n",
       "    <tr>\n",
       "      <th>25%</th>\n",
       "      <td>1994.000000</td>\n",
       "      <td>0.000000e+00</td>\n",
       "    </tr>\n",
       "    <tr>\n",
       "      <th>50%</th>\n",
       "      <td>2005.000000</td>\n",
       "      <td>1.000000e+00</td>\n",
       "    </tr>\n",
       "    <tr>\n",
       "      <th>75%</th>\n",
       "      <td>2015.000000</td>\n",
       "      <td>6.300000e+01</td>\n",
       "    </tr>\n",
       "    <tr>\n",
       "      <th>max</th>\n",
       "      <td>2023.000000</td>\n",
       "      <td>4.583555e+06</td>\n",
       "    </tr>\n",
       "  </tbody>\n",
       "</table>\n",
       "</div>"
      ],
      "text/plain": [
       "               YEAR         CASES\n",
       "count  84869.000000  6.547000e+04\n",
       "mean    2004.108261  4.472409e+03\n",
       "std       12.591396  6.114455e+04\n",
       "min     1980.000000  0.000000e+00\n",
       "25%     1994.000000  0.000000e+00\n",
       "50%     2005.000000  1.000000e+00\n",
       "75%     2015.000000  6.300000e+01\n",
       "max     2023.000000  4.583555e+06"
      ]
     },
     "execution_count": 77,
     "metadata": {},
     "output_type": "execute_result"
    }
   ],
   "source": [
    "df_report.describe()"
   ]
  },
  {
   "cell_type": "code",
   "execution_count": 78,
   "id": "20338f86",
   "metadata": {},
   "outputs": [
    {
     "data": {
      "text/plain": [
       "(84870, 7)"
      ]
     },
     "execution_count": 78,
     "metadata": {},
     "output_type": "execute_result"
    }
   ],
   "source": [
    "df_report.shape"
   ]
  },
  {
   "cell_type": "code",
   "execution_count": 79,
   "id": "da39727c",
   "metadata": {},
   "outputs": [
    {
     "name": "stdout",
     "output_type": "stream",
     "text": [
      "<class 'pandas.core.frame.DataFrame'>\n",
      "RangeIndex: 84870 entries, 0 to 84869\n",
      "Data columns (total 7 columns):\n",
      " #   Column               Non-Null Count  Dtype  \n",
      "---  ------               --------------  -----  \n",
      " 0   GROUP                84870 non-null  object \n",
      " 1   CODE                 84869 non-null  object \n",
      " 2   NAME                 84869 non-null  object \n",
      " 3   YEAR                 84869 non-null  float64\n",
      " 4   DISEASE              84869 non-null  object \n",
      " 5   DISEASE_DESCRIPTION  84869 non-null  object \n",
      " 6   CASES                65470 non-null  float64\n",
      "dtypes: float64(2), object(5)\n",
      "memory usage: 4.5+ MB\n"
     ]
    }
   ],
   "source": [
    "df_report.info()"
   ]
  },
  {
   "cell_type": "code",
   "execution_count": 94,
   "id": "197e1e7d",
   "metadata": {},
   "outputs": [
    {
     "data": {
      "text/html": [
       "<div>\n",
       "<style scoped>\n",
       "    .dataframe tbody tr th:only-of-type {\n",
       "        vertical-align: middle;\n",
       "    }\n",
       "\n",
       "    .dataframe tbody tr th {\n",
       "        vertical-align: top;\n",
       "    }\n",
       "\n",
       "    .dataframe thead th {\n",
       "        text-align: right;\n",
       "    }\n",
       "</style>\n",
       "<table border=\"1\" class=\"dataframe\">\n",
       "  <thead>\n",
       "    <tr style=\"text-align: right;\">\n",
       "      <th></th>\n",
       "      <th>GROUP</th>\n",
       "      <th>CODE</th>\n",
       "      <th>NAME</th>\n",
       "      <th>YEAR</th>\n",
       "      <th>DISEASE</th>\n",
       "      <th>DISEASE_DESCRIPTION</th>\n",
       "      <th>CASES</th>\n",
       "    </tr>\n",
       "  </thead>\n",
       "  <tbody>\n",
       "    <tr>\n",
       "      <th>0</th>\n",
       "      <td>COUNTRIES</td>\n",
       "      <td>ABW</td>\n",
       "      <td>Aruba</td>\n",
       "      <td>2023.0</td>\n",
       "      <td>CRS</td>\n",
       "      <td>Congenital rubella syndrome</td>\n",
       "      <td>0.0</td>\n",
       "    </tr>\n",
       "    <tr>\n",
       "      <th>1</th>\n",
       "      <td>COUNTRIES</td>\n",
       "      <td>ABW</td>\n",
       "      <td>Aruba</td>\n",
       "      <td>2023.0</td>\n",
       "      <td>DIPHTHERIA</td>\n",
       "      <td>Diphtheria</td>\n",
       "      <td>0.0</td>\n",
       "    </tr>\n",
       "    <tr>\n",
       "      <th>2</th>\n",
       "      <td>COUNTRIES</td>\n",
       "      <td>ABW</td>\n",
       "      <td>Aruba</td>\n",
       "      <td>2023.0</td>\n",
       "      <td>INVASIVE_MENING</td>\n",
       "      <td>Invasive meningococcal disease</td>\n",
       "      <td>1.0</td>\n",
       "    </tr>\n",
       "    <tr>\n",
       "      <th>3</th>\n",
       "      <td>COUNTRIES</td>\n",
       "      <td>ABW</td>\n",
       "      <td>Aruba</td>\n",
       "      <td>2023.0</td>\n",
       "      <td>MEASLES</td>\n",
       "      <td>Measles</td>\n",
       "      <td>NaN</td>\n",
       "    </tr>\n",
       "    <tr>\n",
       "      <th>4</th>\n",
       "      <td>COUNTRIES</td>\n",
       "      <td>ABW</td>\n",
       "      <td>Aruba</td>\n",
       "      <td>2023.0</td>\n",
       "      <td>MUMPS</td>\n",
       "      <td>Mumps</td>\n",
       "      <td>0.0</td>\n",
       "    </tr>\n",
       "    <tr>\n",
       "      <th>...</th>\n",
       "      <td>...</td>\n",
       "      <td>...</td>\n",
       "      <td>...</td>\n",
       "      <td>...</td>\n",
       "      <td>...</td>\n",
       "      <td>...</td>\n",
       "      <td>...</td>\n",
       "    </tr>\n",
       "    <tr>\n",
       "      <th>495</th>\n",
       "      <td>WHO_REGIONS</td>\n",
       "      <td>AFR</td>\n",
       "      <td>African Region</td>\n",
       "      <td>2022.0</td>\n",
       "      <td>MEASLES</td>\n",
       "      <td>Measles</td>\n",
       "      <td>97230.0</td>\n",
       "    </tr>\n",
       "    <tr>\n",
       "      <th>496</th>\n",
       "      <td>WHO_REGIONS</td>\n",
       "      <td>AFR</td>\n",
       "      <td>African Region</td>\n",
       "      <td>2022.0</td>\n",
       "      <td>MUMPS</td>\n",
       "      <td>Mumps</td>\n",
       "      <td>231965.0</td>\n",
       "    </tr>\n",
       "    <tr>\n",
       "      <th>497</th>\n",
       "      <td>WHO_REGIONS</td>\n",
       "      <td>AFR</td>\n",
       "      <td>African Region</td>\n",
       "      <td>2022.0</td>\n",
       "      <td>NTETANUS</td>\n",
       "      <td>Neonatal tetanus</td>\n",
       "      <td>1149.0</td>\n",
       "    </tr>\n",
       "    <tr>\n",
       "      <th>498</th>\n",
       "      <td>WHO_REGIONS</td>\n",
       "      <td>AFR</td>\n",
       "      <td>African Region</td>\n",
       "      <td>2022.0</td>\n",
       "      <td>PERTUSSIS</td>\n",
       "      <td>Pertussis</td>\n",
       "      <td>4643.0</td>\n",
       "    </tr>\n",
       "    <tr>\n",
       "      <th>499</th>\n",
       "      <td>WHO_REGIONS</td>\n",
       "      <td>AFR</td>\n",
       "      <td>African Region</td>\n",
       "      <td>2022.0</td>\n",
       "      <td>POLIO</td>\n",
       "      <td>Poliomyelitis</td>\n",
       "      <td>694.0</td>\n",
       "    </tr>\n",
       "  </tbody>\n",
       "</table>\n",
       "<p>500 rows × 7 columns</p>\n",
       "</div>"
      ],
      "text/plain": [
       "           GROUP CODE            NAME    YEAR          DISEASE  \\\n",
       "0      COUNTRIES  ABW           Aruba  2023.0              CRS   \n",
       "1      COUNTRIES  ABW           Aruba  2023.0       DIPHTHERIA   \n",
       "2      COUNTRIES  ABW           Aruba  2023.0  INVASIVE_MENING   \n",
       "3      COUNTRIES  ABW           Aruba  2023.0          MEASLES   \n",
       "4      COUNTRIES  ABW           Aruba  2023.0            MUMPS   \n",
       "..           ...  ...             ...     ...              ...   \n",
       "495  WHO_REGIONS  AFR  African Region  2022.0          MEASLES   \n",
       "496  WHO_REGIONS  AFR  African Region  2022.0            MUMPS   \n",
       "497  WHO_REGIONS  AFR  African Region  2022.0         NTETANUS   \n",
       "498  WHO_REGIONS  AFR  African Region  2022.0        PERTUSSIS   \n",
       "499  WHO_REGIONS  AFR  African Region  2022.0            POLIO   \n",
       "\n",
       "                DISEASE_DESCRIPTION     CASES  \n",
       "0       Congenital rubella syndrome       0.0  \n",
       "1                        Diphtheria       0.0  \n",
       "2    Invasive meningococcal disease       1.0  \n",
       "3                           Measles       NaN  \n",
       "4                             Mumps       0.0  \n",
       "..                              ...       ...  \n",
       "495                         Measles   97230.0  \n",
       "496                           Mumps  231965.0  \n",
       "497                Neonatal tetanus    1149.0  \n",
       "498                       Pertussis    4643.0  \n",
       "499                   Poliomyelitis     694.0  \n",
       "\n",
       "[500 rows x 7 columns]"
      ]
     },
     "execution_count": 94,
     "metadata": {},
     "output_type": "execute_result"
    }
   ],
   "source": [
    "df_report.head(500)"
   ]
  },
  {
   "cell_type": "code",
   "execution_count": 85,
   "id": "f6be83ad",
   "metadata": {},
   "outputs": [
    {
     "data": {
      "text/plain": [
       "GROUP                      0\n",
       "CODE                       1\n",
       "NAME                       1\n",
       "YEAR                       1\n",
       "DISEASE                    1\n",
       "DISEASE_DESCRIPTION        1\n",
       "CASES                  19400\n",
       "dtype: int64"
      ]
     },
     "execution_count": 85,
     "metadata": {},
     "output_type": "execute_result"
    }
   ],
   "source": [
    "df_report.isnull().sum()"
   ]
  },
  {
   "cell_type": "code",
   "execution_count": 82,
   "id": "47a61029",
   "metadata": {},
   "outputs": [
    {
     "name": "stderr",
     "output_type": "stream",
     "text": [
      "C:\\Users\\ADHARSH\\AppData\\Local\\Temp\\ipykernel_11284\\3149887484.py:1: FutureWarning: DataFrame.fillna with 'method' is deprecated and will raise in a future version. Use obj.ffill() or obj.bfill() instead.\n",
      "  df_report[[\"CODE\",\"NAME\"]].fillna(method=\"ffill\",inplace=True)\n",
      "C:\\Users\\ADHARSH\\AppData\\Local\\Temp\\ipykernel_11284\\3149887484.py:1: SettingWithCopyWarning: \n",
      "A value is trying to be set on a copy of a slice from a DataFrame\n",
      "\n",
      "See the caveats in the documentation: https://pandas.pydata.org/pandas-docs/stable/user_guide/indexing.html#returning-a-view-versus-a-copy\n",
      "  df_report[[\"CODE\",\"NAME\"]].fillna(method=\"ffill\",inplace=True)\n"
     ]
    }
   ],
   "source": [
    "df_report[[\"CODE\",\"NAME\"]].fillna(method=\"ffill\",inplace=True)"
   ]
  },
  {
   "cell_type": "code",
   "execution_count": 90,
   "id": "44a84980",
   "metadata": {},
   "outputs": [
    {
     "name": "stderr",
     "output_type": "stream",
     "text": [
      "C:\\Users\\ADHARSH\\AppData\\Local\\Temp\\ipykernel_11284\\4270434202.py:1: FutureWarning: Series.fillna with 'method' is deprecated and will raise in a future version. Use obj.ffill() or obj.bfill() instead.\n",
      "  df_report[\"CODE\"].fillna(method=\"ffill\", inplace=True)\n",
      "C:\\Users\\ADHARSH\\AppData\\Local\\Temp\\ipykernel_11284\\4270434202.py:2: FutureWarning: A value is trying to be set on a copy of a DataFrame or Series through chained assignment using an inplace method.\n",
      "The behavior will change in pandas 3.0. This inplace method will never work because the intermediate object on which we are setting values always behaves as a copy.\n",
      "\n",
      "For example, when doing 'df[col].method(value, inplace=True)', try using 'df.method({col: value}, inplace=True)' or df[col] = df[col].method(value) instead, to perform the operation inplace on the original object.\n",
      "\n",
      "\n",
      "  df_report[\"NAME\"].fillna(method=\"ffill\", inplace=True)\n",
      "C:\\Users\\ADHARSH\\AppData\\Local\\Temp\\ipykernel_11284\\4270434202.py:2: FutureWarning: Series.fillna with 'method' is deprecated and will raise in a future version. Use obj.ffill() or obj.bfill() instead.\n",
      "  df_report[\"NAME\"].fillna(method=\"ffill\", inplace=True)\n"
     ]
    }
   ],
   "source": [
    "df_report[\"CODE\"].fillna(method=\"ffill\", inplace=True)\n",
    "df_report[\"NAME\"].fillna(method=\"ffill\", inplace=True)"
   ]
  },
  {
   "cell_type": "code",
   "execution_count": 99,
   "id": "5f811601",
   "metadata": {},
   "outputs": [
    {
     "data": {
      "text/plain": [
       "GROUP                      0\n",
       "CODE                       0\n",
       "NAME                       0\n",
       "YEAR                       0\n",
       "DISEASE                    1\n",
       "DISEASE_DESCRIPTION        1\n",
       "CASES                  19400\n",
       "dtype: int64"
      ]
     },
     "execution_count": 99,
     "metadata": {},
     "output_type": "execute_result"
    }
   ],
   "source": [
    "df_report.isnull().sum()"
   ]
  },
  {
   "cell_type": "code",
   "execution_count": 92,
   "id": "d6e30521",
   "metadata": {},
   "outputs": [
    {
     "name": "stderr",
     "output_type": "stream",
     "text": [
      "C:\\Users\\ADHARSH\\AppData\\Local\\Temp\\ipykernel_11284\\2053143532.py:2: FutureWarning: A value is trying to be set on a copy of a DataFrame or Series through chained assignment using an inplace method.\n",
      "The behavior will change in pandas 3.0. This inplace method will never work because the intermediate object on which we are setting values always behaves as a copy.\n",
      "\n",
      "For example, when doing 'df[col].method(value, inplace=True)', try using 'df.method({col: value}, inplace=True)' or df[col] = df[col].method(value) instead, to perform the operation inplace on the original object.\n",
      "\n",
      "\n",
      "  df_report['YEAR'].fillna(group_med1, inplace=True)\n"
     ]
    }
   ],
   "source": [
    "group_med1 = df_report.groupby('CODE')['YEAR'].transform('median')\n",
    "df_report['YEAR'].fillna(group_med1, inplace=True)"
   ]
  },
  {
   "cell_type": "code",
   "execution_count": 95,
   "id": "1727d59b",
   "metadata": {},
   "outputs": [
    {
     "name": "stderr",
     "output_type": "stream",
     "text": [
      "C:\\Users\\ADHARSH\\AppData\\Local\\Temp\\ipykernel_11284\\3189673671.py:8: FutureWarning: A value is trying to be set on a copy of a DataFrame or Series through chained assignment using an inplace method.\n",
      "The behavior will change in pandas 3.0. This inplace method will never work because the intermediate object on which we are setting values always behaves as a copy.\n",
      "\n",
      "For example, when doing 'df[col].method(value, inplace=True)', try using 'df.method({col: value}, inplace=True)' or df[col] = df[col].method(value) instead, to perform the operation inplace on the original object.\n",
      "\n",
      "\n",
      "  df_incident['DISEASE_DESCRIPTION'].fillna(df_incident['DISEASE'].map(disease_map), inplace=True)\n",
      "C:\\Users\\ADHARSH\\AppData\\Local\\Temp\\ipykernel_11284\\3189673671.py:11: FutureWarning: A value is trying to be set on a copy of a DataFrame or Series through chained assignment using an inplace method.\n",
      "The behavior will change in pandas 3.0. This inplace method will never work because the intermediate object on which we are setting values always behaves as a copy.\n",
      "\n",
      "For example, when doing 'df[col].method(value, inplace=True)', try using 'df.method({col: value}, inplace=True)' or df[col] = df[col].method(value) instead, to perform the operation inplace on the original object.\n",
      "\n",
      "\n",
      "  df_incident['DISEASE'].fillna(df_incident['DISEASE_DESCRIPTION'].map(description_map), inplace=True)\n"
     ]
    }
   ],
   "source": [
    "# Map DISEASE to DISEASE_DESCRIPTION\n",
    "disease_map = df_incident.set_index('DISEASE')['DISEASE_DESCRIPTION'].dropna().to_dict()\n",
    "\n",
    "# Map DISEASE_DESCRIPTION to DISEASE\n",
    "description_map = df_incident.set_index('DISEASE_DESCRIPTION')['DISEASE'].dropna().to_dict()\n",
    "\n",
    "# Fill missing DISEASE_DESCRIPTION using known DISEASE values (in-place)\n",
    "df_incident['DISEASE_DESCRIPTION'].fillna(df_incident['DISEASE'].map(disease_map), inplace=True)\n",
    "\n",
    "# Fill missing DISEASE using known DISEASE_DESCRIPTION values (in-place)\n",
    "df_incident['DISEASE'].fillna(df_incident['DISEASE_DESCRIPTION'].map(description_map), inplace=True)"
   ]
  },
  {
   "cell_type": "code",
   "execution_count": 101,
   "id": "ecd5c598",
   "metadata": {},
   "outputs": [],
   "source": [
    "#since both disease and disease des ription is empty the above method doesnt work since both are null the and also the row doesnt have much meaning full data we just drop the row\n",
    "df_report.dropna(subset=['DISEASE'], inplace=True)"
   ]
  },
  {
   "cell_type": "code",
   "execution_count": 104,
   "id": "ed803487",
   "metadata": {},
   "outputs": [
    {
     "data": {
      "text/plain": [
       "GROUP                  0\n",
       "CODE                   0\n",
       "NAME                   0\n",
       "YEAR                   0\n",
       "DISEASE                0\n",
       "DISEASE_DESCRIPTION    0\n",
       "CASES                  0\n",
       "dtype: int64"
      ]
     },
     "execution_count": 104,
     "metadata": {},
     "output_type": "execute_result"
    }
   ],
   "source": [
    "df_report.isnull().sum()"
   ]
  },
  {
   "cell_type": "code",
   "execution_count": 103,
   "id": "bd2cbfb7",
   "metadata": {},
   "outputs": [
    {
     "name": "stderr",
     "output_type": "stream",
     "text": [
      "C:\\Users\\ADHARSH\\AppData\\Local\\Temp\\ipykernel_11284\\1684003893.py:2: FutureWarning: A value is trying to be set on a copy of a DataFrame or Series through chained assignment using an inplace method.\n",
      "The behavior will change in pandas 3.0. This inplace method will never work because the intermediate object on which we are setting values always behaves as a copy.\n",
      "\n",
      "For example, when doing 'df[col].method(value, inplace=True)', try using 'df.method({col: value}, inplace=True)' or df[col] = df[col].method(value) instead, to perform the operation inplace on the original object.\n",
      "\n",
      "\n",
      "  df_report['CASES'].fillna(group_med2, inplace=True)\n"
     ]
    }
   ],
   "source": [
    "group_med2 = df_report.groupby('CODE')['CASES'].transform('median')\n",
    "df_report['CASES'].fillna(group_med2, inplace=True)"
   ]
  },
  {
   "cell_type": "code",
   "execution_count": 106,
   "id": "175824be",
   "metadata": {},
   "outputs": [
    {
     "data": {
      "text/plain": [
       "(84869, 7)"
      ]
     },
     "execution_count": 106,
     "metadata": {},
     "output_type": "execute_result"
    }
   ],
   "source": [
    "df_report.shape"
   ]
  },
  {
   "cell_type": "code",
   "execution_count": 105,
   "id": "d229fd52",
   "metadata": {},
   "outputs": [],
   "source": [
    "df_report.to_excel(\"REPORTS.xlsx\")"
   ]
  },
  {
   "cell_type": "code",
   "execution_count": 107,
   "id": "d60acbf8",
   "metadata": {},
   "outputs": [],
   "source": [
    "df_schedule = pd.read_excel(\"vaccine-schedule-data.xlsx\")"
   ]
  },
  {
   "cell_type": "code",
   "execution_count": 108,
   "id": "96f5e0f5",
   "metadata": {},
   "outputs": [
    {
     "data": {
      "text/html": [
       "<div>\n",
       "<style scoped>\n",
       "    .dataframe tbody tr th:only-of-type {\n",
       "        vertical-align: middle;\n",
       "    }\n",
       "\n",
       "    .dataframe tbody tr th {\n",
       "        vertical-align: top;\n",
       "    }\n",
       "\n",
       "    .dataframe thead th {\n",
       "        text-align: right;\n",
       "    }\n",
       "</style>\n",
       "<table border=\"1\" class=\"dataframe\">\n",
       "  <thead>\n",
       "    <tr style=\"text-align: right;\">\n",
       "      <th></th>\n",
       "      <th>YEAR</th>\n",
       "      <th>SCHEDULEROUNDS</th>\n",
       "    </tr>\n",
       "  </thead>\n",
       "  <tbody>\n",
       "    <tr>\n",
       "      <th>count</th>\n",
       "      <td>8052.000000</td>\n",
       "      <td>8052.000000</td>\n",
       "    </tr>\n",
       "    <tr>\n",
       "      <th>mean</th>\n",
       "      <td>2022.941505</td>\n",
       "      <td>2.053403</td>\n",
       "    </tr>\n",
       "    <tr>\n",
       "      <th>std</th>\n",
       "      <td>0.441237</td>\n",
       "      <td>1.316560</td>\n",
       "    </tr>\n",
       "    <tr>\n",
       "      <th>min</th>\n",
       "      <td>2019.000000</td>\n",
       "      <td>1.000000</td>\n",
       "    </tr>\n",
       "    <tr>\n",
       "      <th>25%</th>\n",
       "      <td>2023.000000</td>\n",
       "      <td>1.000000</td>\n",
       "    </tr>\n",
       "    <tr>\n",
       "      <th>50%</th>\n",
       "      <td>2023.000000</td>\n",
       "      <td>2.000000</td>\n",
       "    </tr>\n",
       "    <tr>\n",
       "      <th>75%</th>\n",
       "      <td>2023.000000</td>\n",
       "      <td>3.000000</td>\n",
       "    </tr>\n",
       "    <tr>\n",
       "      <th>max</th>\n",
       "      <td>2023.000000</td>\n",
       "      <td>7.000000</td>\n",
       "    </tr>\n",
       "  </tbody>\n",
       "</table>\n",
       "</div>"
      ],
      "text/plain": [
       "              YEAR  SCHEDULEROUNDS\n",
       "count  8052.000000     8052.000000\n",
       "mean   2022.941505        2.053403\n",
       "std       0.441237        1.316560\n",
       "min    2019.000000        1.000000\n",
       "25%    2023.000000        1.000000\n",
       "50%    2023.000000        2.000000\n",
       "75%    2023.000000        3.000000\n",
       "max    2023.000000        7.000000"
      ]
     },
     "execution_count": 108,
     "metadata": {},
     "output_type": "execute_result"
    }
   ],
   "source": [
    "df_schedule.describe()"
   ]
  },
  {
   "cell_type": "code",
   "execution_count": 109,
   "id": "80afc61f",
   "metadata": {},
   "outputs": [
    {
     "name": "stdout",
     "output_type": "stream",
     "text": [
      "<class 'pandas.core.frame.DataFrame'>\n",
      "RangeIndex: 8053 entries, 0 to 8052\n",
      "Data columns (total 12 columns):\n",
      " #   Column                 Non-Null Count  Dtype  \n",
      "---  ------                 --------------  -----  \n",
      " 0   ISO_3_CODE             8053 non-null   object \n",
      " 1   COUNTRYNAME            8052 non-null   object \n",
      " 2   WHO_REGION             8052 non-null   object \n",
      " 3   YEAR                   8052 non-null   float64\n",
      " 4   VACCINECODE            8052 non-null   object \n",
      " 5   VACCINE_DESCRIPTION    8052 non-null   object \n",
      " 6   SCHEDULEROUNDS         8052 non-null   float64\n",
      " 7   TARGETPOP              3795 non-null   object \n",
      " 8   TARGETPOP_DESCRIPTION  8052 non-null   object \n",
      " 9   GEOAREA                8022 non-null   object \n",
      " 10  AGEADMINISTERED        7007 non-null   object \n",
      " 11  SOURCECOMMENT          5139 non-null   object \n",
      "dtypes: float64(2), object(10)\n",
      "memory usage: 755.1+ KB\n"
     ]
    }
   ],
   "source": [
    "df_schedule.info()"
   ]
  },
  {
   "cell_type": "code",
   "execution_count": 110,
   "id": "07905ad3",
   "metadata": {},
   "outputs": [
    {
     "data": {
      "text/plain": [
       "(8053, 12)"
      ]
     },
     "execution_count": 110,
     "metadata": {},
     "output_type": "execute_result"
    }
   ],
   "source": [
    "df_schedule.shape"
   ]
  },
  {
   "cell_type": "code",
   "execution_count": 116,
   "id": "a3d68597",
   "metadata": {},
   "outputs": [
    {
     "data": {
      "text/html": [
       "<div>\n",
       "<style scoped>\n",
       "    .dataframe tbody tr th:only-of-type {\n",
       "        vertical-align: middle;\n",
       "    }\n",
       "\n",
       "    .dataframe tbody tr th {\n",
       "        vertical-align: top;\n",
       "    }\n",
       "\n",
       "    .dataframe thead th {\n",
       "        text-align: right;\n",
       "    }\n",
       "</style>\n",
       "<table border=\"1\" class=\"dataframe\">\n",
       "  <thead>\n",
       "    <tr style=\"text-align: right;\">\n",
       "      <th></th>\n",
       "      <th>ISO_3_CODE</th>\n",
       "      <th>COUNTRYNAME</th>\n",
       "      <th>WHO_REGION</th>\n",
       "      <th>YEAR</th>\n",
       "      <th>VACCINECODE</th>\n",
       "      <th>VACCINE_DESCRIPTION</th>\n",
       "      <th>SCHEDULEROUNDS</th>\n",
       "      <th>TARGETPOP</th>\n",
       "      <th>TARGETPOP_DESCRIPTION</th>\n",
       "      <th>GEOAREA</th>\n",
       "      <th>AGEADMINISTERED</th>\n",
       "      <th>SOURCECOMMENT</th>\n",
       "    </tr>\n",
       "  </thead>\n",
       "  <tbody>\n",
       "    <tr>\n",
       "      <th>0</th>\n",
       "      <td>ABW</td>\n",
       "      <td>Aruba</td>\n",
       "      <td>AMRO</td>\n",
       "      <td>2023.0</td>\n",
       "      <td>DTAPHIBIPV</td>\n",
       "      <td>DTaP-Hib-IPV (acellular) vaccine</td>\n",
       "      <td>1.0</td>\n",
       "      <td>NaN</td>\n",
       "      <td>General/routine</td>\n",
       "      <td>NATIONAL</td>\n",
       "      <td>M2</td>\n",
       "      <td>NaN</td>\n",
       "    </tr>\n",
       "    <tr>\n",
       "      <th>1</th>\n",
       "      <td>ABW</td>\n",
       "      <td>Aruba</td>\n",
       "      <td>AMRO</td>\n",
       "      <td>2023.0</td>\n",
       "      <td>DTAPHIBIPV</td>\n",
       "      <td>DTaP-Hib-IPV (acellular) vaccine</td>\n",
       "      <td>2.0</td>\n",
       "      <td>NaN</td>\n",
       "      <td>General/routine</td>\n",
       "      <td>NATIONAL</td>\n",
       "      <td>M4</td>\n",
       "      <td>NaN</td>\n",
       "    </tr>\n",
       "    <tr>\n",
       "      <th>2</th>\n",
       "      <td>ABW</td>\n",
       "      <td>Aruba</td>\n",
       "      <td>AMRO</td>\n",
       "      <td>2023.0</td>\n",
       "      <td>DTAPHIBIPV</td>\n",
       "      <td>DTaP-Hib-IPV (acellular) vaccine</td>\n",
       "      <td>3.0</td>\n",
       "      <td>NaN</td>\n",
       "      <td>General/routine</td>\n",
       "      <td>NATIONAL</td>\n",
       "      <td>M6</td>\n",
       "      <td>NaN</td>\n",
       "    </tr>\n",
       "    <tr>\n",
       "      <th>3</th>\n",
       "      <td>ABW</td>\n",
       "      <td>Aruba</td>\n",
       "      <td>AMRO</td>\n",
       "      <td>2023.0</td>\n",
       "      <td>DTAPHIBIPV</td>\n",
       "      <td>DTaP-Hib-IPV (acellular) vaccine</td>\n",
       "      <td>4.0</td>\n",
       "      <td>B_2YL_W</td>\n",
       "      <td>General/routine</td>\n",
       "      <td>NATIONAL</td>\n",
       "      <td>M15</td>\n",
       "      <td>NaN</td>\n",
       "    </tr>\n",
       "    <tr>\n",
       "      <th>4</th>\n",
       "      <td>ABW</td>\n",
       "      <td>Aruba</td>\n",
       "      <td>AMRO</td>\n",
       "      <td>2023.0</td>\n",
       "      <td>DTAPIPV</td>\n",
       "      <td>DTaP-IPV (acellular) vaccine</td>\n",
       "      <td>5.0</td>\n",
       "      <td>B_CHILD_W</td>\n",
       "      <td>General/routine</td>\n",
       "      <td>NATIONAL</td>\n",
       "      <td>Y4</td>\n",
       "      <td>NaN</td>\n",
       "    </tr>\n",
       "    <tr>\n",
       "      <th>...</th>\n",
       "      <td>...</td>\n",
       "      <td>...</td>\n",
       "      <td>...</td>\n",
       "      <td>...</td>\n",
       "      <td>...</td>\n",
       "      <td>...</td>\n",
       "      <td>...</td>\n",
       "      <td>...</td>\n",
       "      <td>...</td>\n",
       "      <td>...</td>\n",
       "      <td>...</td>\n",
       "      <td>...</td>\n",
       "    </tr>\n",
       "    <tr>\n",
       "      <th>95</th>\n",
       "      <td>AIA</td>\n",
       "      <td>Anguilla</td>\n",
       "      <td>AMRO</td>\n",
       "      <td>2023.0</td>\n",
       "      <td>HEPB_ADULT</td>\n",
       "      <td>Adult Hepatitis B vaccine</td>\n",
       "      <td>2.0</td>\n",
       "      <td>ADULTS</td>\n",
       "      <td>Adults</td>\n",
       "      <td>NATIONAL</td>\n",
       "      <td>+M1</td>\n",
       "      <td>adults and recommended for all health workers ...</td>\n",
       "    </tr>\n",
       "    <tr>\n",
       "      <th>96</th>\n",
       "      <td>AIA</td>\n",
       "      <td>Anguilla</td>\n",
       "      <td>AMRO</td>\n",
       "      <td>2023.0</td>\n",
       "      <td>HEPB_ADULT</td>\n",
       "      <td>Adult Hepatitis B vaccine</td>\n",
       "      <td>3.0</td>\n",
       "      <td>ADULTS</td>\n",
       "      <td>Adults</td>\n",
       "      <td>NATIONAL</td>\n",
       "      <td>+M6</td>\n",
       "      <td>adults and recommended for all health workers ...</td>\n",
       "    </tr>\n",
       "    <tr>\n",
       "      <th>97</th>\n",
       "      <td>AIA</td>\n",
       "      <td>Anguilla</td>\n",
       "      <td>AMRO</td>\n",
       "      <td>2023.0</td>\n",
       "      <td>HEPB_ADULT</td>\n",
       "      <td>Adult Hepatitis B vaccine</td>\n",
       "      <td>3.0</td>\n",
       "      <td>HW</td>\n",
       "      <td>Health workers</td>\n",
       "      <td>NATIONAL</td>\n",
       "      <td>+M6</td>\n",
       "      <td>adults and recommended for all health workers ...</td>\n",
       "    </tr>\n",
       "    <tr>\n",
       "      <th>98</th>\n",
       "      <td>AIA</td>\n",
       "      <td>Anguilla</td>\n",
       "      <td>AMRO</td>\n",
       "      <td>2023.0</td>\n",
       "      <td>HEPB_ADULT</td>\n",
       "      <td>Adult Hepatitis B vaccine</td>\n",
       "      <td>2.0</td>\n",
       "      <td>HW</td>\n",
       "      <td>Health workers</td>\n",
       "      <td>NATIONAL</td>\n",
       "      <td>+M1</td>\n",
       "      <td>adults and recommended for all health workers ...</td>\n",
       "    </tr>\n",
       "    <tr>\n",
       "      <th>99</th>\n",
       "      <td>AIA</td>\n",
       "      <td>Anguilla</td>\n",
       "      <td>AMRO</td>\n",
       "      <td>2023.0</td>\n",
       "      <td>HEPB_ADULT</td>\n",
       "      <td>Adult Hepatitis B vaccine</td>\n",
       "      <td>1.0</td>\n",
       "      <td>HW</td>\n",
       "      <td>Health workers</td>\n",
       "      <td>NATIONAL</td>\n",
       "      <td>1st contact</td>\n",
       "      <td>adults and recommended for all health workers ...</td>\n",
       "    </tr>\n",
       "  </tbody>\n",
       "</table>\n",
       "<p>100 rows × 12 columns</p>\n",
       "</div>"
      ],
      "text/plain": [
       "   ISO_3_CODE COUNTRYNAME WHO_REGION    YEAR VACCINECODE  \\\n",
       "0         ABW       Aruba       AMRO  2023.0  DTAPHIBIPV   \n",
       "1         ABW       Aruba       AMRO  2023.0  DTAPHIBIPV   \n",
       "2         ABW       Aruba       AMRO  2023.0  DTAPHIBIPV   \n",
       "3         ABW       Aruba       AMRO  2023.0  DTAPHIBIPV   \n",
       "4         ABW       Aruba       AMRO  2023.0     DTAPIPV   \n",
       "..        ...         ...        ...     ...         ...   \n",
       "95        AIA    Anguilla       AMRO  2023.0  HEPB_ADULT   \n",
       "96        AIA    Anguilla       AMRO  2023.0  HEPB_ADULT   \n",
       "97        AIA    Anguilla       AMRO  2023.0  HEPB_ADULT   \n",
       "98        AIA    Anguilla       AMRO  2023.0  HEPB_ADULT   \n",
       "99        AIA    Anguilla       AMRO  2023.0  HEPB_ADULT   \n",
       "\n",
       "                 VACCINE_DESCRIPTION  SCHEDULEROUNDS  TARGETPOP  \\\n",
       "0   DTaP-Hib-IPV (acellular) vaccine             1.0        NaN   \n",
       "1   DTaP-Hib-IPV (acellular) vaccine             2.0        NaN   \n",
       "2   DTaP-Hib-IPV (acellular) vaccine             3.0        NaN   \n",
       "3   DTaP-Hib-IPV (acellular) vaccine             4.0    B_2YL_W   \n",
       "4       DTaP-IPV (acellular) vaccine             5.0  B_CHILD_W   \n",
       "..                               ...             ...        ...   \n",
       "95         Adult Hepatitis B vaccine             2.0     ADULTS   \n",
       "96         Adult Hepatitis B vaccine             3.0     ADULTS   \n",
       "97         Adult Hepatitis B vaccine             3.0         HW   \n",
       "98         Adult Hepatitis B vaccine             2.0         HW   \n",
       "99         Adult Hepatitis B vaccine             1.0         HW   \n",
       "\n",
       "   TARGETPOP_DESCRIPTION   GEOAREA AGEADMINISTERED  \\\n",
       "0        General/routine  NATIONAL              M2   \n",
       "1        General/routine  NATIONAL              M4   \n",
       "2        General/routine  NATIONAL              M6   \n",
       "3        General/routine  NATIONAL             M15   \n",
       "4        General/routine  NATIONAL              Y4   \n",
       "..                   ...       ...             ...   \n",
       "95                Adults  NATIONAL             +M1   \n",
       "96                Adults  NATIONAL             +M6   \n",
       "97        Health workers  NATIONAL             +M6   \n",
       "98        Health workers  NATIONAL             +M1   \n",
       "99        Health workers  NATIONAL     1st contact   \n",
       "\n",
       "                                        SOURCECOMMENT  \n",
       "0                                                 NaN  \n",
       "1                                                 NaN  \n",
       "2                                                 NaN  \n",
       "3                                                 NaN  \n",
       "4                                                 NaN  \n",
       "..                                                ...  \n",
       "95  adults and recommended for all health workers ...  \n",
       "96  adults and recommended for all health workers ...  \n",
       "97  adults and recommended for all health workers ...  \n",
       "98  adults and recommended for all health workers ...  \n",
       "99  adults and recommended for all health workers ...  \n",
       "\n",
       "[100 rows x 12 columns]"
      ]
     },
     "execution_count": 116,
     "metadata": {},
     "output_type": "execute_result"
    }
   ],
   "source": [
    "df_schedule.head(100)"
   ]
  },
  {
   "cell_type": "code",
   "execution_count": null,
   "id": "33067fff",
   "metadata": {},
   "outputs": [
    {
     "data": {
      "text/html": [
       "<div>\n",
       "<style scoped>\n",
       "    .dataframe tbody tr th:only-of-type {\n",
       "        vertical-align: middle;\n",
       "    }\n",
       "\n",
       "    .dataframe tbody tr th {\n",
       "        vertical-align: top;\n",
       "    }\n",
       "\n",
       "    .dataframe thead th {\n",
       "        text-align: right;\n",
       "    }\n",
       "</style>\n",
       "<table border=\"1\" class=\"dataframe\">\n",
       "  <thead>\n",
       "    <tr style=\"text-align: right;\">\n",
       "      <th></th>\n",
       "      <th>ISO_3_CODE</th>\n",
       "      <th>COUNTRYNAME</th>\n",
       "      <th>WHO_REGION</th>\n",
       "      <th>YEAR</th>\n",
       "      <th>VACCINECODE</th>\n",
       "      <th>VACCINE_DESCRIPTION</th>\n",
       "      <th>SCHEDULEROUNDS</th>\n",
       "      <th>TARGETPOP</th>\n",
       "      <th>TARGETPOP_DESCRIPTION</th>\n",
       "      <th>GEOAREA</th>\n",
       "      <th>AGEADMINISTERED</th>\n",
       "      <th>SOURCECOMMENT</th>\n",
       "    </tr>\n",
       "  </thead>\n",
       "  <tbody>\n",
       "    <tr>\n",
       "      <th>0</th>\n",
       "      <td>False</td>\n",
       "      <td>False</td>\n",
       "      <td>False</td>\n",
       "      <td>False</td>\n",
       "      <td>False</td>\n",
       "      <td>False</td>\n",
       "      <td>False</td>\n",
       "      <td>True</td>\n",
       "      <td>False</td>\n",
       "      <td>False</td>\n",
       "      <td>False</td>\n",
       "      <td>True</td>\n",
       "    </tr>\n",
       "    <tr>\n",
       "      <th>1</th>\n",
       "      <td>False</td>\n",
       "      <td>False</td>\n",
       "      <td>False</td>\n",
       "      <td>False</td>\n",
       "      <td>False</td>\n",
       "      <td>False</td>\n",
       "      <td>False</td>\n",
       "      <td>True</td>\n",
       "      <td>False</td>\n",
       "      <td>False</td>\n",
       "      <td>False</td>\n",
       "      <td>True</td>\n",
       "    </tr>\n",
       "    <tr>\n",
       "      <th>2</th>\n",
       "      <td>False</td>\n",
       "      <td>False</td>\n",
       "      <td>False</td>\n",
       "      <td>False</td>\n",
       "      <td>False</td>\n",
       "      <td>False</td>\n",
       "      <td>False</td>\n",
       "      <td>True</td>\n",
       "      <td>False</td>\n",
       "      <td>False</td>\n",
       "      <td>False</td>\n",
       "      <td>True</td>\n",
       "    </tr>\n",
       "    <tr>\n",
       "      <th>3</th>\n",
       "      <td>False</td>\n",
       "      <td>False</td>\n",
       "      <td>False</td>\n",
       "      <td>False</td>\n",
       "      <td>False</td>\n",
       "      <td>False</td>\n",
       "      <td>False</td>\n",
       "      <td>False</td>\n",
       "      <td>False</td>\n",
       "      <td>False</td>\n",
       "      <td>False</td>\n",
       "      <td>True</td>\n",
       "    </tr>\n",
       "    <tr>\n",
       "      <th>4</th>\n",
       "      <td>False</td>\n",
       "      <td>False</td>\n",
       "      <td>False</td>\n",
       "      <td>False</td>\n",
       "      <td>False</td>\n",
       "      <td>False</td>\n",
       "      <td>False</td>\n",
       "      <td>False</td>\n",
       "      <td>False</td>\n",
       "      <td>False</td>\n",
       "      <td>False</td>\n",
       "      <td>True</td>\n",
       "    </tr>\n",
       "    <tr>\n",
       "      <th>...</th>\n",
       "      <td>...</td>\n",
       "      <td>...</td>\n",
       "      <td>...</td>\n",
       "      <td>...</td>\n",
       "      <td>...</td>\n",
       "      <td>...</td>\n",
       "      <td>...</td>\n",
       "      <td>...</td>\n",
       "      <td>...</td>\n",
       "      <td>...</td>\n",
       "      <td>...</td>\n",
       "      <td>...</td>\n",
       "    </tr>\n",
       "    <tr>\n",
       "      <th>8048</th>\n",
       "      <td>False</td>\n",
       "      <td>False</td>\n",
       "      <td>False</td>\n",
       "      <td>False</td>\n",
       "      <td>False</td>\n",
       "      <td>False</td>\n",
       "      <td>False</td>\n",
       "      <td>True</td>\n",
       "      <td>False</td>\n",
       "      <td>False</td>\n",
       "      <td>False</td>\n",
       "      <td>False</td>\n",
       "    </tr>\n",
       "    <tr>\n",
       "      <th>8049</th>\n",
       "      <td>False</td>\n",
       "      <td>False</td>\n",
       "      <td>False</td>\n",
       "      <td>False</td>\n",
       "      <td>False</td>\n",
       "      <td>False</td>\n",
       "      <td>False</td>\n",
       "      <td>True</td>\n",
       "      <td>False</td>\n",
       "      <td>False</td>\n",
       "      <td>False</td>\n",
       "      <td>False</td>\n",
       "    </tr>\n",
       "    <tr>\n",
       "      <th>8050</th>\n",
       "      <td>False</td>\n",
       "      <td>False</td>\n",
       "      <td>False</td>\n",
       "      <td>False</td>\n",
       "      <td>False</td>\n",
       "      <td>False</td>\n",
       "      <td>False</td>\n",
       "      <td>True</td>\n",
       "      <td>False</td>\n",
       "      <td>False</td>\n",
       "      <td>False</td>\n",
       "      <td>False</td>\n",
       "    </tr>\n",
       "    <tr>\n",
       "      <th>8051</th>\n",
       "      <td>False</td>\n",
       "      <td>False</td>\n",
       "      <td>False</td>\n",
       "      <td>False</td>\n",
       "      <td>False</td>\n",
       "      <td>False</td>\n",
       "      <td>False</td>\n",
       "      <td>True</td>\n",
       "      <td>False</td>\n",
       "      <td>False</td>\n",
       "      <td>False</td>\n",
       "      <td>False</td>\n",
       "    </tr>\n",
       "    <tr>\n",
       "      <th>8052</th>\n",
       "      <td>False</td>\n",
       "      <td>True</td>\n",
       "      <td>True</td>\n",
       "      <td>True</td>\n",
       "      <td>True</td>\n",
       "      <td>True</td>\n",
       "      <td>True</td>\n",
       "      <td>True</td>\n",
       "      <td>True</td>\n",
       "      <td>True</td>\n",
       "      <td>True</td>\n",
       "      <td>True</td>\n",
       "    </tr>\n",
       "  </tbody>\n",
       "</table>\n",
       "<p>8053 rows × 12 columns</p>\n",
       "</div>"
      ],
      "text/plain": [
       "      ISO_3_CODE  COUNTRYNAME  WHO_REGION   YEAR  VACCINECODE  \\\n",
       "0          False        False       False  False        False   \n",
       "1          False        False       False  False        False   \n",
       "2          False        False       False  False        False   \n",
       "3          False        False       False  False        False   \n",
       "4          False        False       False  False        False   \n",
       "...          ...          ...         ...    ...          ...   \n",
       "8048       False        False       False  False        False   \n",
       "8049       False        False       False  False        False   \n",
       "8050       False        False       False  False        False   \n",
       "8051       False        False       False  False        False   \n",
       "8052       False         True        True   True         True   \n",
       "\n",
       "      VACCINE_DESCRIPTION  SCHEDULEROUNDS  TARGETPOP  TARGETPOP_DESCRIPTION  \\\n",
       "0                   False           False       True                  False   \n",
       "1                   False           False       True                  False   \n",
       "2                   False           False       True                  False   \n",
       "3                   False           False      False                  False   \n",
       "4                   False           False      False                  False   \n",
       "...                   ...             ...        ...                    ...   \n",
       "8048                False           False       True                  False   \n",
       "8049                False           False       True                  False   \n",
       "8050                False           False       True                  False   \n",
       "8051                False           False       True                  False   \n",
       "8052                 True            True       True                   True   \n",
       "\n",
       "      GEOAREA  AGEADMINISTERED  SOURCECOMMENT  \n",
       "0       False            False           True  \n",
       "1       False            False           True  \n",
       "2       False            False           True  \n",
       "3       False            False           True  \n",
       "4       False            False           True  \n",
       "...       ...              ...            ...  \n",
       "8048    False            False          False  \n",
       "8049    False            False          False  \n",
       "8050    False            False          False  \n",
       "8051    False            False          False  \n",
       "8052     True             True           True  \n",
       "\n",
       "[8053 rows x 12 columns]"
      ]
     },
     "execution_count": 112,
     "metadata": {},
     "output_type": "execute_result"
    }
   ],
   "source": [
    "df_schedule.isnull()"
   ]
  },
  {
   "cell_type": "code",
   "execution_count": 127,
   "id": "b62ff944",
   "metadata": {},
   "outputs": [
    {
     "data": {
      "text/plain": [
       "ISO_3_CODE                  0\n",
       "COUNTRYNAME                 0\n",
       "WHO_REGION                  0\n",
       "YEAR                        0\n",
       "VACCINECODE                 0\n",
       "VACCINE_DESCRIPTION         0\n",
       "SCHEDULEROUNDS              0\n",
       "TARGETPOP                   0\n",
       "TARGETPOP_DESCRIPTION       0\n",
       "GEOAREA                     0\n",
       "AGEADMINISTERED          1045\n",
       "SOURCECOMMENT            2913\n",
       "dtype: int64"
      ]
     },
     "execution_count": 127,
     "metadata": {},
     "output_type": "execute_result"
    }
   ],
   "source": [
    "df_schedule.isnull().sum()"
   ]
  },
  {
   "cell_type": "code",
   "execution_count": null,
   "id": "1eddcd77",
   "metadata": {},
   "outputs": [],
   "source": [
    "#we removed the last row as it contained many null values\n",
    "df_schedule = df_schedule.iloc[:-1]\n"
   ]
  },
  {
   "cell_type": "code",
   "execution_count": 119,
   "id": "743d940b",
   "metadata": {},
   "outputs": [],
   "source": [
    "df_schedule[\"TARGETPOP\"].fillna(value=\"Unknown\",inplace=True)"
   ]
  },
  {
   "cell_type": "code",
   "execution_count": 121,
   "id": "d2f56250",
   "metadata": {},
   "outputs": [
    {
     "data": {
      "text/plain": [
       "array(['NATIONAL', 'SUBNATIONAL', nan], dtype=object)"
      ]
     },
     "execution_count": 121,
     "metadata": {},
     "output_type": "execute_result"
    }
   ],
   "source": [
    "df_schedule[\"GEOAREA\"].unique()"
   ]
  },
  {
   "cell_type": "code",
   "execution_count": 126,
   "id": "73285cf2",
   "metadata": {},
   "outputs": [],
   "source": [
    "group_mode = df_schedule.groupby('ISO_3_CODE')['GEOAREA'].transform(lambda x: x.mode()[0] if not x.mode().empty else np.nan)\n",
    "df_schedule['GEOAREA'].fillna(group_mode, inplace=True)"
   ]
  },
  {
   "cell_type": "code",
   "execution_count": 130,
   "id": "622bb806",
   "metadata": {},
   "outputs": [
    {
     "name": "stderr",
     "output_type": "stream",
     "text": [
      "C:\\Users\\ADHARSH\\AppData\\Local\\Temp\\ipykernel_11284\\1773880941.py:2: FutureWarning: A value is trying to be set on a copy of a DataFrame or Series through chained assignment using an inplace method.\n",
      "The behavior will change in pandas 3.0. This inplace method will never work because the intermediate object on which we are setting values always behaves as a copy.\n",
      "\n",
      "For example, when doing 'df[col].method(value, inplace=True)', try using 'df.method({col: value}, inplace=True)' or df[col] = df[col].method(value) instead, to perform the operation inplace on the original object.\n",
      "\n",
      "\n",
      "  df_schedule[\"SOURCECOMMENT\"].fillna(value=\"Unknow\",inplace=True)\n"
     ]
    }
   ],
   "source": [
    "df_schedule[\"AGEADMINISTERED\"].fillna(value=\"Unknow\",inplace=True)\n",
    "df_schedule[\"SOURCECOMMENT\"].fillna(value=\"Unknow\",inplace=True)"
   ]
  },
  {
   "cell_type": "code",
   "execution_count": 131,
   "id": "07d393de",
   "metadata": {},
   "outputs": [
    {
     "data": {
      "text/plain": [
       "ISO_3_CODE               0\n",
       "COUNTRYNAME              0\n",
       "WHO_REGION               0\n",
       "YEAR                     0\n",
       "VACCINECODE              0\n",
       "VACCINE_DESCRIPTION      0\n",
       "SCHEDULEROUNDS           0\n",
       "TARGETPOP                0\n",
       "TARGETPOP_DESCRIPTION    0\n",
       "GEOAREA                  0\n",
       "AGEADMINISTERED          0\n",
       "SOURCECOMMENT            0\n",
       "dtype: int64"
      ]
     },
     "execution_count": 131,
     "metadata": {},
     "output_type": "execute_result"
    }
   ],
   "source": [
    "df_schedule.isnull().sum()"
   ]
  },
  {
   "cell_type": "code",
   "execution_count": 132,
   "id": "14e10589",
   "metadata": {},
   "outputs": [],
   "source": [
    "df_schedule.to_excel(\"SCHEDULE.xlsx\")"
   ]
  },
  {
   "cell_type": "code",
   "execution_count": null,
   "id": "e698df39",
   "metadata": {},
   "outputs": [],
   "source": [
    "# Now we have 5 cleaned data sets \n",
    "# ->COVERAGE.xlsx (\"coverage-data.xlsx\")\n",
    "# ->INCIDENT.xlsx (\"incidence-rate-data.xlsx\")\n",
    "# ->INTRO.xlsx    (\"vaccine-introduction-data.xlsx\")\n",
    "# ->SCHEDULE.xlsx (\"vaccine-schedule-data.xlsx\")\n",
    "# ->REPORTS.xlsx  (\"reported-cases-data.xlsx\")"
   ]
  }
 ],
 "metadata": {
  "kernelspec": {
   "display_name": "Python 3",
   "language": "python",
   "name": "python3"
  },
  "language_info": {
   "codemirror_mode": {
    "name": "ipython",
    "version": 3
   },
   "file_extension": ".py",
   "mimetype": "text/x-python",
   "name": "python",
   "nbconvert_exporter": "python",
   "pygments_lexer": "ipython3",
   "version": "3.13.0"
  }
 },
 "nbformat": 4,
 "nbformat_minor": 5
}
